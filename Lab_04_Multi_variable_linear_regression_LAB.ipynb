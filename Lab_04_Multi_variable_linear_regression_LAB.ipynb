{
  "nbformat": 4,
  "nbformat_minor": 0,
  "metadata": {
    "colab": {
      "name": "Lab-04 Multi variable linear regression LAB.ipynb",
      "provenance": [],
      "collapsed_sections": [],
      "authorship_tag": "ABX9TyMLaYIf0ou7voovbMNm4bhg",
      "include_colab_link": true
    },
    "kernelspec": {
      "name": "python3",
      "display_name": "Python 3"
    }
  },
  "cells": [
    {
      "cell_type": "markdown",
      "metadata": {
        "id": "view-in-github",
        "colab_type": "text"
      },
      "source": [
        "<a href=\"https://colab.research.google.com/github/LeeDongGeon1996/TensorFlow/blob/master/study-note/Lab_04_Multi_variable_linear_regression_LAB.ipynb\" target=\"_parent\"><img src=\"https://colab.research.google.com/assets/colab-badge.svg\" alt=\"Open In Colab\"/></a>"
      ]
    },
    {
      "cell_type": "markdown",
      "metadata": {
        "id": "_K2qihhEGZBQ",
        "colab_type": "text"
      },
      "source": [
        "# Lab-04 Multi variable linear regression LAB"
      ]
    },
    {
      "cell_type": "code",
      "metadata": {
        "id": "HbD2WFbSGWDt",
        "colab_type": "code",
        "colab": {
          "base_uri": "https://localhost:8080/",
          "height": 34
        },
        "outputId": "738f6f96-cc40-4448-e47b-97b7033f1b23"
      },
      "source": [
        "%tensorflow_version 2.x\n",
        "import tensorflow as tf"
      ],
      "execution_count": 1,
      "outputs": [
        {
          "output_type": "stream",
          "text": [
            "TensorFlow 2.x selected.\n"
          ],
          "name": "stdout"
        }
      ]
    },
    {
      "cell_type": "code",
      "metadata": {
        "id": "ODUqNT_zG3z3",
        "colab_type": "code",
        "colab": {
          "base_uri": "https://localhost:8080/",
          "height": 34
        },
        "outputId": "89abe587-3cd9-427d-f4b8-0af748403fd6"
      },
      "source": [
        "x1 = [73, 93, 89, 96, 73]\n",
        "x2 = [80,88,91,98,66]\n",
        "x3 = [75,93,90,100,70]\n",
        "y = [152,185,180,196,142]\n",
        "\n",
        "tf.random.set_seed(0)\n",
        "w1 = tf.Variable(tf.random.uniform([1]))\n",
        "w2 = tf.Variable(tf.random.uniform([1]))\n",
        "w3 = tf.Variable(tf.random.uniform([1]))\n",
        "b = tf.Variable(tf.random.uniform([1]))\n",
        "\n",
        "learning_rate = 0.00001\n",
        "epoch = 10000\n",
        "\n",
        "print(\"start with w1 : {}, w2 : {}, w3 : {}, b : {}\".format(w1.numpy(),w2.numpy(),w3.numpy(),b.numpy()))"
      ],
      "execution_count": 24,
      "outputs": [
        {
          "output_type": "stream",
          "text": [
            "start with w1 : [0.29197514], w2 : [0.5554141], w3 : [0.1952138], b : [0.17513537]\n"
          ],
          "name": "stdout"
        }
      ]
    },
    {
      "cell_type": "code",
      "metadata": {
        "id": "1uZ4u26jHaYA",
        "colab_type": "code",
        "colab": {
          "base_uri": "https://localhost:8080/",
          "height": 193
        },
        "outputId": "b952c7e7-1a50-40e6-c1fb-a409327519ba"
      },
      "source": [
        "for i in range(epoch):\n",
        "  with tf.GradientTape() as tape:\n",
        "    hx = w1*x1 + w2*x2 + w3*x3 + b\n",
        "    cost = tf.reduce_mean(tf.square(hx - y))\n",
        "\n",
        "  w1_grad, w2_grad, w3_grad, b_grad = tape.gradient(cost, [w1,w2,w3,b])\n",
        "\n",
        "  w1.assign_sub(learning_rate * w1_grad)\n",
        "  w2.assign_sub(learning_rate * w2_grad)\n",
        "  w3.assign_sub(learning_rate * w3_grad)\n",
        "  b.assign_sub(learning_rate * b_grad)\n",
        "\n",
        "  if i % 1000 == 0:\n",
        "    print(\"{:5} | cost:{:12.4f}\".format(i, cost.numpy()))"
      ],
      "execution_count": 27,
      "outputs": [
        {
          "output_type": "stream",
          "text": [
            "    0 | cost:      0.1795\n",
            " 1000 | cost:      0.1786\n",
            " 2000 | cost:      0.1778\n",
            " 3000 | cost:      0.1770\n",
            " 4000 | cost:      0.1763\n",
            " 5000 | cost:      0.1755\n",
            " 6000 | cost:      0.1749\n",
            " 7000 | cost:      0.1742\n",
            " 8000 | cost:      0.1736\n",
            " 9000 | cost:      0.1730\n"
          ],
          "name": "stdout"
        }
      ]
    },
    {
      "cell_type": "markdown",
      "metadata": {
        "id": "iFrJiZeHSlrd",
        "colab_type": "text"
      },
      "source": [
        "# Using Matrix!!"
      ]
    },
    {
      "cell_type": "code",
      "metadata": {
        "id": "RaK9rAQALo28",
        "colab_type": "code",
        "colab": {}
      },
      "source": [
        "import numpy as np\n",
        "\n",
        "x1 = [73, 93, 89, 96, 73]\n",
        "x2 = [80,88,91,98,66]\n",
        "x3 = [75,93,90,100,70]\n",
        "y = [152,185,180,196,142]\n",
        "\n",
        "# make data as matrix\n",
        "data = np.array([x1, x2, x3, y], dtype=np.float32)\n",
        "data = data.transpose()\n",
        "\n",
        "x = data[:, :-1]\n",
        "y = data[:, [-1]]\n",
        "W = tf.Variable(tf.random.uniform([3,1]))\n",
        "b = tf.Variable(tf.random.uniform([1]))\n",
        "\n",
        "def predict(X):\n",
        "  return tf.matmul(X,W) + b\n"
      ],
      "execution_count": 0,
      "outputs": []
    },
    {
      "cell_type": "code",
      "metadata": {
        "id": "1TD6B__JOj4N",
        "colab_type": "code",
        "colab": {
          "base_uri": "https://localhost:8080/",
          "height": 193
        },
        "outputId": "c3ab4980-10a9-42b5-9315-9cacadb7bcb4"
      },
      "source": [
        "for i in range(epoch):\n",
        "  with tf.GradientTape() as tape:\n",
        "    cost = tf.reduce_mean(tf.square(predict(x) - y))\n",
        "\n",
        "  w_grad, b_grad = tape.gradient(cost, [W,b])\n",
        "\n",
        "  W.assign_sub(learning_rate * w_grad)\n",
        "  b.assign_sub(learning_rate * b_grad)\n",
        "\n",
        "  if i % 1000 == 0:\n",
        "    print(\"{:5} | cost:{:12.4f}\".format(i, cost.numpy()))\n"
      ],
      "execution_count": 37,
      "outputs": [
        {
          "output_type": "stream",
          "text": [
            "    0 | cost:      0.4094\n",
            " 1000 | cost:      0.3973\n",
            " 2000 | cost:      0.3859\n",
            " 3000 | cost:      0.3750\n",
            " 4000 | cost:      0.3646\n",
            " 5000 | cost:      0.3547\n",
            " 6000 | cost:      0.3452\n",
            " 7000 | cost:      0.3362\n",
            " 8000 | cost:      0.3277\n",
            " 9000 | cost:      0.3195\n"
          ],
          "name": "stdout"
        }
      ]
    },
    {
      "cell_type": "code",
      "metadata": {
        "id": "6zEOya7PRsbx",
        "colab_type": "code",
        "colab": {}
      },
      "source": [
        ""
      ],
      "execution_count": 0,
      "outputs": []
    }
  ]
}