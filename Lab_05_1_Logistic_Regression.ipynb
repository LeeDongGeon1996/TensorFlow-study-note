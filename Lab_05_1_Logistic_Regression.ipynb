{
  "nbformat": 4,
  "nbformat_minor": 0,
  "metadata": {
    "colab": {
      "name": "Lab-05-1 Logistic Regression.ipynb",
      "provenance": [],
      "collapsed_sections": [],
      "authorship_tag": "ABX9TyNiq+6oT+RnEaq93gilydaK",
      "include_colab_link": true
    },
    "kernelspec": {
      "name": "python3",
      "display_name": "Python 3"
    }
  },
  "cells": [
    {
      "cell_type": "markdown",
      "metadata": {
        "id": "view-in-github",
        "colab_type": "text"
      },
      "source": [
        "<a href=\"https://colab.research.google.com/github/LeeDongGeon1996/TensorFlow/blob/master/study-note/Lab_05_1_Logistic_Regression.ipynb\" target=\"_parent\"><img src=\"https://colab.research.google.com/assets/colab-badge.svg\" alt=\"Open In Colab\"/></a>"
      ]
    },
    {
      "cell_type": "markdown",
      "metadata": {
        "id": "yp4Kh86CVhSg",
        "colab_type": "text"
      },
      "source": [
        "# Lab-05-1 Logistic Regression\n",
        "\n",
        "분류 기법중에 하나.<br />\n",
        "\n",
        "## Classification\n",
        "`Binary Classification` , `Multi-class Classification`<br />\n",
        "그냥 분류하는 거임.<br />\n",
        "EX) 패논패, 스팸분류, Real/Fake, 종양분류<br />\n",
        "\n",
        "## Logistic Regression vs Linear Regression\n",
        "`Logistic Regression` : 비연속적 데이터(ex. 구간별데이터, 신발사이즈)\n",
        "`Linear Regression` : 연속적 데이터(ex. 시간, 무게, 키)\n",
        "\n",
        "\n",
        "## Hypothesis in Logistic Regression\n",
        "우리는 기존에 `Linear Regression`에서 사용하던 가설함수가 아닌<br />\n",
        "비연속적 데이터를 분류할 새로운 함수가 필요하다.<br />\n",
        "그것이 바로 `Sigmoid`.\n",
        "\n",
        "### Sigmoid\n",
        "Sigmoid는 지수함수의 형태이다.\n",
        " > hypothesis = tf.sigmoid(z) <br />\n",
        "\n",
        "형태로 `tensorflow`상에서 표현할 수 있다.<br />\n",
        "\n",
        "이때, sigmoid는 곡선의 형태이므로<br />\n",
        "`Decision Boundary`를 이용하여 output값을 결정지을 수 있다.<br />\n",
        "ex) Y > 0.5 -> True / 아니면 False\n",
        "\n",
        "> predicted = tf.cast(hypothesis > 0.5 , dtype = tf.int32)\n",
        "\n",
        "형태로 사용가능.\n",
        "\n",
        "\n",
        "\n"
      ]
    },
    {
      "cell_type": "code",
      "metadata": {
        "id": "qbblsUdgVcsr",
        "colab_type": "code",
        "colab": {}
      },
      "source": [
        "# Lab-05-1 Logistic Regression\n",
        "\n"
      ],
      "execution_count": 0,
      "outputs": []
    }
  ]
}