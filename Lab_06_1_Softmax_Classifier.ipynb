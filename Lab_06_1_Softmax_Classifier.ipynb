{
  "nbformat": 4,
  "nbformat_minor": 0,
  "metadata": {
    "colab": {
      "name": "Lab_06_1 Softmax Classifier.ipynb의 사본",
      "provenance": [],
      "authorship_tag": "ABX9TyPQMMYF60T3z54vRsRuZjdt",
      "include_colab_link": true
    },
    "kernelspec": {
      "name": "python3",
      "display_name": "Python 3"
    }
  },
  "cells": [
    {
      "cell_type": "markdown",
      "metadata": {
        "id": "view-in-github",
        "colab_type": "text"
      },
      "source": [
        "<a href=\"https://colab.research.google.com/github/LeeDongGeon1996/TensorFlow/blob/master/study-note/Lab_06_1_Softmax_Classifier.ipynb\" target=\"_parent\"><img src=\"https://colab.research.google.com/assets/colab-badge.svg\" alt=\"Open In Colab\"/></a>"
      ]
    },
    {
      "cell_type": "code",
      "metadata": {
        "id": "OiOI1OzyAuMs",
        "colab_type": "code",
        "outputId": "3a38e6ff-d1a8-4ed8-84d6-78294ea805e3",
        "colab": {
          "base_uri": "https://localhost:8080/",
          "height": 34
        }
      },
      "source": [
        "%tensorflow_version 2.x\n",
        "\n",
        "import tensorflow as tf\n",
        "import numpy as np"
      ],
      "execution_count": 0,
      "outputs": [
        {
          "output_type": "stream",
          "text": [
            "TensorFlow 2.x selected.\n"
          ],
          "name": "stdout"
        }
      ]
    },
    {
      "cell_type": "code",
      "metadata": {
        "id": "o3j6ZcP4Nvdh",
        "colab_type": "code",
        "colab": {}
      },
      "source": [
        "# 8 instances, 4 features\n",
        "x_data = [[1, 2, 1, 1],\n",
        "          [2, 1, 3, 2],\n",
        "          [3, 1, 3, 4],\n",
        "          [4, 1, 5, 5],\n",
        "          [1, 7, 5, 5],\n",
        "          [1, 2, 5, 6],\n",
        "          [1, 6, 6, 6],\n",
        "          [1, 7, 7, 7]]\n",
        "y_data = [[0, 0, 1],\n",
        "          [0, 0, 1],\n",
        "          [0, 0, 1],\n",
        "          [0, 1, 0],\n",
        "          [0, 1, 0],\n",
        "          [0, 1, 0],\n",
        "          [1, 0, 0],\n",
        "          [1, 0, 0]]\n",
        "\n",
        "x_data = np.asarray(x_data, dtype=np.float32)\n",
        "y_data = np.asarray(y_data, dtype=np.float32)\n",
        "\n",
        "nb_features = 4\n",
        "nb_classes = 3"
      ],
      "execution_count": 0,
      "outputs": []
    },
    {
      "cell_type": "code",
      "metadata": {
        "id": "_IQwBO0LPDaF",
        "colab_type": "code",
        "outputId": "44b1b787-5fdb-424a-8cfc-5a62d56241f8",
        "colab": {
          "base_uri": "https://localhost:8080/",
          "height": 864
        }
      },
      "source": [
        "tf.random.set_seed(777)\n",
        "W = tf.Variable(tf.random.normal([nb_features, nb_classes], dtype = tf.float32, name=\"Weight\"))\n",
        "b = tf.Variable(tf.random.normal([nb_classes], dtype = tf.float32, name=\"Bias\"))\n",
        "\n",
        "print([W,b])\n",
        "\n",
        "def softmax_classifier(features):\n",
        "  return tf.nn.softmax(tf.matmul(features,W) + b)\n",
        "\n",
        "sampled_data = np.asarray([[548,86,1,1235]], dtype = np.float32)\n",
        "print(softmax_classifier(sampled_data))\n",
        "\n",
        "def get_cost(features, labels):\n",
        "  return tf.reduce_mean(-tf.reduce_sum(tf.multiply(labels, tf.math.log(softmax_classifier(features))), axis=1))\n",
        "\n",
        "optimizer = tf.keras.optimizers.SGD(learning_rate=0.5)\n",
        "\n",
        "def calc_grad(features, labels):\n",
        "  with tf.GradientTape() as g:\n",
        "    cost = get_cost(features, labels)\n",
        "    grads = g.gradient(cost, [W,b])\n",
        "    #print(\"grads : \" + str(grads))\n",
        "  return grads\n",
        "\n",
        "def fit(features, labels,epochs=4000, verbose=100):\n",
        "  for i in range(epochs):\n",
        "    grad = calc_grad(features, labels)\n",
        "    optimizer.apply_gradients(zip(grad, [W,b]))\n",
        "    if (i==0) | ((i+1)%verbose==0):\n",
        "            print('Loss at epoch %d: %f' %(i+1, get_cost(features, labels).numpy()))\n",
        "            \n",
        "fit(x_data, y_data)"
      ],
      "execution_count": 0,
      "outputs": [
        {
          "output_type": "stream",
          "text": [
            "[<tf.Variable 'Variable:0' shape=(4, 3) dtype=float32, numpy=\n",
            "array([[ 0.7706481 ,  0.37335402, -0.05576323],\n",
            "       [ 0.00358377, -0.5898363 ,  1.5702795 ],\n",
            "       [ 0.2460895 , -0.09918973,  1.4418385 ],\n",
            "       [ 0.3200988 ,  0.526784  , -0.7703731 ]], dtype=float32)>, <tf.Variable 'Variable:0' shape=(3,) dtype=float32, numpy=array([-1.3080608 , -0.13253094,  0.5513761 ], dtype=float32)>]\n",
            "tf.Tensor([[9.9999678e-01 3.1604436e-06 0.0000000e+00]], shape=(1, 3), dtype=float32)\n",
            "Loss at epoch 1: 5.101215\n",
            "Loss at epoch 100: 3.168825\n",
            "Loss at epoch 200: 1.120199\n",
            "Loss at epoch 300: 1.932226\n",
            "Loss at epoch 400: 0.579747\n",
            "Loss at epoch 500: 1.012704\n",
            "Loss at epoch 600: 4.168036\n",
            "Loss at epoch 700: 1.117758\n",
            "Loss at epoch 800: 0.420168\n",
            "Loss at epoch 900: 1.263011\n",
            "Loss at epoch 1000: 0.762491\n",
            "Loss at epoch 1100: 0.398357\n",
            "Loss at epoch 1200: 0.006990\n",
            "Loss at epoch 1300: 0.006817\n",
            "Loss at epoch 1400: 0.006708\n",
            "Loss at epoch 1500: 0.006612\n",
            "Loss at epoch 1600: 0.006523\n",
            "Loss at epoch 1700: 0.006438\n",
            "Loss at epoch 1800: 0.006356\n",
            "Loss at epoch 1900: 0.006278\n",
            "Loss at epoch 2000: 0.006203\n",
            "Loss at epoch 2100: 0.006131\n",
            "Loss at epoch 2200: 0.006062\n",
            "Loss at epoch 2300: 0.005994\n",
            "Loss at epoch 2400: 0.005929\n",
            "Loss at epoch 2500: 0.005867\n",
            "Loss at epoch 2600: 0.005806\n",
            "Loss at epoch 2700: 0.005747\n",
            "Loss at epoch 2800: 0.005690\n",
            "Loss at epoch 2900: 0.005635\n",
            "Loss at epoch 3000: 0.005581\n",
            "Loss at epoch 3100: 0.005529\n",
            "Loss at epoch 3200: 0.005478\n",
            "Loss at epoch 3300: 0.005429\n",
            "Loss at epoch 3400: 0.005380\n",
            "Loss at epoch 3500: 0.005334\n",
            "Loss at epoch 3600: 0.005288\n",
            "Loss at epoch 3700: 0.005243\n",
            "Loss at epoch 3800: 0.005200\n",
            "Loss at epoch 3900: 0.005157\n",
            "Loss at epoch 4000: 0.005116\n"
          ],
          "name": "stdout"
        }
      ]
    },
    {
      "cell_type": "code",
      "metadata": {
        "id": "xKik2RyEXTzI",
        "colab_type": "code",
        "outputId": "f5a8866b-d3f5-4b11-8bf3-37cc9f3f564c",
        "colab": {
          "base_uri": "https://localhost:8080/",
          "height": 52
        }
      },
      "source": [
        "sample_data = [[2,1,3,2]] # answer_label [[0,0,1]]\n",
        "sample_data = np.asarray(sample_data, dtype=np.float32)\n",
        "\n",
        "a = softmax_classifier(sample_data)\n",
        "\n",
        "print(a)\n",
        "print(tf.argmax(a, 1))"
      ],
      "execution_count": 0,
      "outputs": [
        {
          "output_type": "stream",
          "text": [
            "tf.Tensor([[6.266717e-08 4.682882e-03 9.953171e-01]], shape=(1, 3), dtype=float32)\n",
            "tf.Tensor([2], shape=(1,), dtype=int64)\n"
          ],
          "name": "stdout"
        }
      ]
    },
    {
      "cell_type": "code",
      "metadata": {
        "id": "7s3G3wEOjeDS",
        "colab_type": "code",
        "outputId": "f7c52790-e8dd-4d81-895b-e58ed831cf67",
        "colab": {
          "base_uri": "https://localhost:8080/",
          "height": 351
        }
      },
      "source": [
        "print(x_data)\n",
        "p = softmax_classifier(x_data)\n",
        "print(p)\n",
        "print(tf.argmax(p, 1))\n",
        "print(tf.argmax(y_data, 1)) # matches with y_data"
      ],
      "execution_count": 0,
      "outputs": [
        {
          "output_type": "stream",
          "text": [
            "[[1. 2. 1. 1.]\n",
            " [2. 1. 3. 2.]\n",
            " [3. 1. 3. 4.]\n",
            " [4. 1. 5. 5.]\n",
            " [1. 7. 5. 5.]\n",
            " [1. 2. 5. 6.]\n",
            " [1. 6. 6. 6.]\n",
            " [1. 7. 7. 7.]]\n",
            "tf.Tensor(\n",
            "[[1.2165705e-18 2.2146308e-08 1.0000000e+00]\n",
            " [6.2667169e-08 4.6828822e-03 9.9531710e-01]\n",
            " [1.8127596e-24 7.1702665e-03 9.9282974e-01]\n",
            " [7.2228170e-18 9.9289674e-01 7.1032993e-03]\n",
            " [7.5146328e-03 9.9194485e-01 5.4054451e-04]\n",
            " [3.8458416e-03 9.9615413e-01 1.6309842e-10]\n",
            " [9.9013573e-01 9.8642986e-03 4.5684935e-11]\n",
            " [9.9994612e-01 5.3892087e-05 2.5557896e-16]], shape=(8, 3), dtype=float32)\n",
            "tf.Tensor([2 2 2 1 1 1 0 0], shape=(8,), dtype=int64)\n",
            "tf.Tensor([2 2 2 1 1 1 0 0], shape=(8,), dtype=int64)\n"
          ],
          "name": "stdout"
        }
      ]
    },
    {
      "cell_type": "markdown",
      "metadata": {
        "id": "F2Y6u6lkmegi",
        "colab_type": "text"
      },
      "source": [
        "#왜 같은 값이 안나오지..\n",
        "\n",
        "> `learning rate` 값을 적절히 조절하자. <br />\n",
        "충분한 학습이 되지 않았을 수도있다."
      ]
    },
    {
      "cell_type": "code",
      "metadata": {
        "id": "oXuarh2JjyfZ",
        "colab_type": "code",
        "colab": {}
      },
      "source": [
        ""
      ],
      "execution_count": 0,
      "outputs": []
    }
  ]
}