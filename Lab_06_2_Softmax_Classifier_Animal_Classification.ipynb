{
  "nbformat": 4,
  "nbformat_minor": 0,
  "metadata": {
    "colab": {
      "name": "Lab_06_2 Softmax Classifier Animal Classification.ipynb",
      "provenance": [],
      "authorship_tag": "ABX9TyOMQArQzkqA0xw52mst73gD",
      "include_colab_link": true
    },
    "kernelspec": {
      "name": "python3",
      "display_name": "Python 3"
    }
  },
  "cells": [
    {
      "cell_type": "markdown",
      "metadata": {
        "id": "view-in-github",
        "colab_type": "text"
      },
      "source": [
        "<a href=\"https://colab.research.google.com/github/LeeDongGeon1996/TensorFlow/blob/master/study-note/Lab_06_2_Softmax_Classifier_Animal_Classification.ipynb\" target=\"_parent\"><img src=\"https://colab.research.google.com/assets/colab-badge.svg\" alt=\"Open In Colab\"/></a>"
      ]
    },
    {
      "cell_type": "markdown",
      "metadata": {
        "id": "c_04esTsDXSB",
        "colab_type": "text"
      },
      "source": [
        "# Lab-06-2 Softmax Classifier Animal Classification\n",
        "\n"
      ]
    },
    {
      "cell_type": "code",
      "metadata": {
        "id": "U6779dPDDAgs",
        "colab_type": "code",
        "colab": {
          "base_uri": "https://localhost:8080/",
          "height": 34
        },
        "outputId": "18a57d22-76e8-44cf-96e5-7f11c7fbd6e0"
      },
      "source": [
        "!git clone https://github.com/LeeDongGeon1996/TensorFlow.git"
      ],
      "execution_count": 2,
      "outputs": [
        {
          "output_type": "stream",
          "text": [
            "fatal: destination path 'TensorFlow' already exists and is not an empty directory.\n"
          ],
          "name": "stdout"
        }
      ]
    },
    {
      "cell_type": "code",
      "metadata": {
        "id": "ao4q03GlDt9s",
        "colab_type": "code",
        "colab": {
          "base_uri": "https://localhost:8080/",
          "height": 122
        },
        "outputId": "41f6222a-16c1-46b5-aaae-9e8fac05b4d1"
      },
      "source": [
        "%tensorflow_version 2.x\n",
        "import tensorflow as tf\n",
        "import numpy as np\n",
        "\n",
        "xy = np.loadtxt('TensorFlow/data-04-zoo.csv', delimiter=',', dtype=np.float32)\n",
        "x_data = xy[:, 0:-1]\n",
        "y_data = xy[:, -1]\n",
        "\n",
        "print(y_data)\n",
        "print(x_data.shape, y_data.shape)\n",
        "\n",
        "nb_features = 16\n",
        "nb_classes = 7  # 0 ~ 6\n"
      ],
      "execution_count": 31,
      "outputs": [
        {
          "output_type": "stream",
          "text": [
            "[0. 0. 3. 0. 0. 0. 0. 3. 3. 0. 0. 1. 3. 6. 6. 6. 1. 0. 3. 0. 1. 1. 0. 1.\n",
            " 5. 4. 4. 0. 0. 0. 5. 0. 0. 1. 3. 0. 0. 1. 3. 5. 5. 1. 5. 1. 0. 0. 6. 0.\n",
            " 0. 0. 0. 5. 4. 6. 0. 0. 1. 1. 1. 1. 3. 3. 2. 0. 0. 0. 0. 0. 0. 0. 0. 1.\n",
            " 6. 3. 0. 0. 2. 6. 1. 1. 2. 6. 3. 1. 0. 6. 3. 1. 5. 4. 2. 2. 3. 0. 0. 1.\n",
            " 0. 5. 0. 6. 1.]\n",
            "(101, 16) (101,)\n"
          ],
          "name": "stdout"
        }
      ]
    },
    {
      "cell_type": "markdown",
      "metadata": {
        "id": "P5hkyp2lKYhb",
        "colab_type": "text"
      },
      "source": [
        "##one-hot encoding"
      ]
    },
    {
      "cell_type": "code",
      "metadata": {
        "id": "BgnJwL-UD8Ti",
        "colab_type": "code",
        "colab": {
          "base_uri": "https://localhost:8080/",
          "height": 52
        },
        "outputId": "f925739a-5a1e-4671-caae-2677b71eb52c"
      },
      "source": [
        "print(type(y_data))\n",
        "Y_one_hot = tf.one_hot(y_data.astype(np.int32), nb_classes)\n",
        "print(Y_one_hot.shape)\n",
        "y_data = Y_one_hot\n",
        " "
      ],
      "execution_count": 32,
      "outputs": [
        {
          "output_type": "stream",
          "text": [
            "<class 'numpy.ndarray'>\n",
            "(101, 7)\n"
          ],
          "name": "stdout"
        }
      ]
    },
    {
      "cell_type": "markdown",
      "metadata": {
        "id": "wlvyUNTGKbZR",
        "colab_type": "text"
      },
      "source": [
        "#training~~~~"
      ]
    },
    {
      "cell_type": "code",
      "metadata": {
        "id": "sEBQAmWpH1FX",
        "colab_type": "code",
        "colab": {
          "base_uri": "https://localhost:8080/",
          "height": 228
        },
        "outputId": "d54a91e5-34a5-4a19-baa5-b82aca27a221"
      },
      "source": [
        "W = tf.Variable(tf.random.normal([nb_features, nb_classes], dtype = tf.float32), name='weight')\n",
        "b = tf.Variable(tf.random.normal([nb_classes]), dtype = tf.float32, name='bias')\n",
        "variables = [W,b]\n",
        "\n",
        "def logit_fn(features):\n",
        "  return tf.matmul(features, W) + b\n",
        "\n",
        "def hypothesis(features):\n",
        "  return tf.nn.softmax(logit_fn(features))\n",
        "\n",
        "def cost_fn(features, labels):\n",
        "  cross_entropy =  tf.nn.softmax_cross_entropy_with_logits(labels, logit_fn(features))\n",
        "  cost = tf.reduce_mean(cross_entropy)\n",
        "  return cost\n",
        "\n",
        "def accuracy_fn(features, labels):\n",
        "  pred = hypothesis(features)\n",
        "  pred = tf.argmax(pred, 1)\n",
        "  compare = tf.equal(pred,tf.argmax(labels,1))\n",
        "  acc = tf.reduce_mean(tf.cast(compare, tf.float32))\n",
        "  return acc\n",
        "\n",
        "def fit(features, labels, epoch = 1101, verbose=100):\n",
        "  optimizer = tf.keras.optimizers.SGD(learning_rate=0.1)\n",
        "\n",
        "  for i in range(epoch):   \n",
        "    with tf.GradientTape() as g:\n",
        "      cost = cost_fn(features, labels)\n",
        "      grad = g.gradient(cost, variables)\n",
        "\n",
        "    optimizer.apply_gradients(zip(grad, variables))\n",
        "    if (i==0) | ((i+1)%verbose==0):\n",
        "      acc = accuracy_fn(features, labels)\n",
        "      loss = cost_fn(features, labels)\n",
        "      print('loss % acc at {} epoch {}, {}'.format(i+1, loss, acc))\n",
        "\n",
        "\n",
        "fit(x_data, y_data)\n"
      ],
      "execution_count": 37,
      "outputs": [
        {
          "output_type": "stream",
          "text": [
            "loss % acc at 1 epoch 5.64552116394043, 0.059405941516160965\n",
            "loss % acc at 100 epoch 0.631930410861969, 0.7920792102813721\n",
            "loss % acc at 200 epoch 0.3809286057949066, 0.8811880946159363\n",
            "loss % acc at 300 epoch 0.27403953671455383, 0.9108911156654358\n",
            "loss % acc at 400 epoch 0.21435460448265076, 0.9504950642585754\n",
            "loss % acc at 500 epoch 0.17615966498851776, 0.9603960514068604\n",
            "loss % acc at 600 epoch 0.14952148497104645, 0.9603960514068604\n",
            "loss % acc at 700 epoch 0.1298440545797348, 0.9801980257034302\n",
            "loss % acc at 800 epoch 0.11470597237348557, 1.0\n",
            "loss % acc at 900 epoch 0.10270228236913681, 1.0\n",
            "loss % acc at 1000 epoch 0.09295668452978134, 1.0\n",
            "loss % acc at 1100 epoch 0.08489203453063965, 1.0\n"
          ],
          "name": "stdout"
        }
      ]
    },
    {
      "cell_type": "markdown",
      "metadata": {
        "id": "-nqlcK7EVw7p",
        "colab_type": "text"
      },
      "source": [
        "# Accuracy 100%"
      ]
    },
    {
      "cell_type": "code",
      "metadata": {
        "id": "OTfRPoJEVws5",
        "colab_type": "code",
        "colab": {}
      },
      "source": [
        ""
      ],
      "execution_count": 0,
      "outputs": []
    }
  ]
}