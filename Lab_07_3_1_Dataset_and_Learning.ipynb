{
  "nbformat": 4,
  "nbformat_minor": 0,
  "metadata": {
    "colab": {
      "name": "Lab_07-3-1_Dataset_and_Learning.ipynb",
      "provenance": [],
      "collapsed_sections": [],
      "authorship_tag": "ABX9TyPlOksFLRgJ9XDI/q/YMQ7a",
      "include_colab_link": true
    },
    "kernelspec": {
      "name": "python3",
      "display_name": "Python 3"
    }
  },
  "cells": [
    {
      "cell_type": "markdown",
      "metadata": {
        "id": "view-in-github",
        "colab_type": "text"
      },
      "source": [
        "<a href=\"https://colab.research.google.com/github/LeeDongGeon1996/TensorFlow-study-note/blob/master/Lab_07_3_1_Dataset_and_Learning.ipynb\" target=\"_parent\"><img src=\"https://colab.research.google.com/assets/colab-badge.svg\" alt=\"Open In Colab\"/></a>"
      ]
    },
    {
      "cell_type": "markdown",
      "metadata": {
        "id": "dpoWYbH_AR92",
        "colab_type": "text"
      },
      "source": [
        "# Lab_07-3-1_Dataset_and_Learning\n",
        "\n",
        "\n",
        "#### Training and Validation\n",
        "* 모델을 만드는 과정은 데이터가 아주 중요함.\n",
        "* `training`과 `validation`과정을 거치게됨.\n",
        "> `validation` <br />\n",
        "> * 모델을 평가하는 과정.<br />\n",
        "> * 정확한 output을 출력하는 가.\n",
        "\n",
        "* 어쨋든, 적절한 학습데이터와 평가데이터를 준비해야함.\n",
        "\n",
        "#### Evaluating hypothesis\n",
        "* 새로운 데이터를 모델에 넣었을때도 모델이 잘 동작해야함.\n",
        "* 전형적인 training data와 validation data비율은 7:3임\n",
        "\n",
        "\n",
        "#### Anomaly detection (이상 감지)\n",
        "> GAN <br />\n",
        " GAN이라는 기법을 활용하면 건강한 상태의 초음파사진?만을 학습하여<br />\n",
        " 건강하지 않은 상태의 사진이 input으로 들어왔을 때, 감지할 수 있다.\n",
        " * Unsupervised learning.\n",
        "\n",
        "#### Fine tunning vs Feature Extraction\n",
        "\n",
        "* Fine tunning\n",
        "> 기존에 학습된 모델을 이용하여 비슷한 종류의 다른데이터(내가 학습하고자하는)를 <br />\n",
        "더 학습시켜서 모델의 `Weight`값을 미세하게 조정하는 방법\n",
        ">> `transfer learning` 인듯?\n",
        "\n",
        "* Feature Extraction\n",
        "> 기존의 모델은 보존하고 새로운 task에 대해서만 더 training을 시킨다는 데 뭔소린지;\n",
        "\n",
        "#### Efficient Models\n",
        "* 모델을 학습시켰는데 모델의 간단한 output을 얻기까지 10초이상이 걸린다고 하자.\n",
        "* 이 모델은 실전에서 사용하기 어려울 것이다.\n",
        "* 즉 우리는 모델의 inference time을 최소화시키고\n",
        "* 모델의 weight를 경량화 시켜야한다.\n",
        "> fully connected layer와 같은 경우 1x1convolution 연산으로 대체될 수 있다.\n",
        "\n",
        "* 이와 같은 기법으로 우리는 대량의 데이터처리가 가능하고 저성능의 환경에서도 학습이 가능하다.\n",
        "> `Squeezenet`, `Mobilenet`이란 것이 있다고 한다.\n",
        "\n",
        "\n"
      ]
    },
    {
      "cell_type": "code",
      "metadata": {
        "id": "pW3NyKZeAAoe",
        "colab_type": "code",
        "colab": {}
      },
      "source": [
        ""
      ],
      "execution_count": 0,
      "outputs": []
    }
  ]
}