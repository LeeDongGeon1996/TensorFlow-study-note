{
  "nbformat": 4,
  "nbformat_minor": 0,
  "metadata": {
    "colab": {
      "name": "Lab_09_1 neural nets XOR.ipynb",
      "provenance": [],
      "collapsed_sections": [],
      "authorship_tag": "ABX9TyO06nqGsz0t+yWuxcUinizn",
      "include_colab_link": true
    },
    "kernelspec": {
      "name": "python3",
      "display_name": "Python 3"
    }
  },
  "cells": [
    {
      "cell_type": "markdown",
      "metadata": {
        "id": "view-in-github",
        "colab_type": "text"
      },
      "source": [
        "<a href=\"https://colab.research.google.com/github/LeeDongGeon1996/TensorFlow-study-note/blob/master/Lab_09_1_neural_nets_XOR.ipynb\" target=\"_parent\"><img src=\"https://colab.research.google.com/assets/colab-badge.svg\" alt=\"Open In Colab\"/></a>"
      ]
    },
    {
      "cell_type": "markdown",
      "metadata": {
        "id": "x3lMqWKMLyz7",
        "colab_type": "text"
      },
      "source": [
        "# Lab_09_1 neural nets XOR\n",
        " * implement XOR using multi-layer network.\n",
        " \n",
        "  \n",
        "\n",
        "\n",
        "#### This code is what I implemented."
      ]
    },
    {
      "cell_type": "code",
      "metadata": {
        "id": "VjPfoHWwaTm_",
        "colab_type": "code",
        "colab": {
          "base_uri": "https://localhost:8080/",
          "height": 34
        },
        "outputId": "59a35b85-3a75-42f7-99d3-77c0ff97c485"
      },
      "source": [
        "%tensorflow_version 2.x\n",
        "import numpy as np\n",
        "import matplotlib.pyplot as plt\n",
        "%matplotlib inline\n",
        "import tensorflow as tf\n",
        "import time\n",
        "\n",
        "tf.random.set_seed(777)  # for reproducibility\n",
        "\n",
        "print(tf.__version__)"
      ],
      "execution_count": 89,
      "outputs": [
        {
          "output_type": "stream",
          "text": [
            "2.1.0\n"
          ],
          "name": "stdout"
        }
      ]
    },
    {
      "cell_type": "code",
      "metadata": {
        "id": "4CzlKXdhcwKv",
        "colab_type": "code",
        "colab": {
          "base_uri": "https://localhost:8080/",
          "height": 279
        },
        "outputId": "9e0486e0-eb05-4524-9331-9bb7ac85625d"
      },
      "source": [
        "x_data = [[0, 0],\n",
        "          [0, 1],\n",
        "          [1, 0],\n",
        "          [1, 1]]\n",
        "y_data = [[0],\n",
        "          [1],\n",
        "          [1],\n",
        "          [0]]\n",
        "\n",
        "plt.scatter(x_data[0][0],x_data[0][1], c='red' , marker='^')\n",
        "plt.scatter(x_data[3][0],x_data[3][1], c='red' , marker='^')\n",
        "plt.scatter(x_data[1][0],x_data[1][1], c='blue' , marker='^')\n",
        "plt.scatter(x_data[2][0],x_data[2][1], c='blue' , marker='^')\n",
        "\n",
        "plt.xlabel(\"x1\")\n",
        "plt.ylabel(\"x2\")\n",
        "plt.show()\n",
        "\n",
        "\n",
        "def preprocess_data(features, labels):\n",
        "    features = tf.cast(features, tf.float32)\n",
        "    labels = tf.cast(labels, tf.float32)\n",
        "    return features, labels"
      ],
      "execution_count": 90,
      "outputs": [
        {
          "output_type": "display_data",
          "data": {
            "image/png": "[encoded data removed]",
            "text/plain": [
              "<Figure size 432x288 with 1 Axes>"
            ]
          },
          "metadata": {
            "tags": []
          }
        }
      ]
    },
    {
      "cell_type": "markdown",
      "metadata": {
        "id": "lKjMXiLoe8ZA",
        "colab_type": "text"
      },
      "source": [
        "# My implementation."
      ]
    },
    {
      "cell_type": "code",
      "metadata": {
        "id": "XjXzcJHdc7jo",
        "colab_type": "code",
        "colab": {
          "base_uri": "https://localhost:8080/",
          "height": 228
        },
        "outputId": "aa102380-a9ac-4826-a379-2a2203744e27"
      },
      "source": [
        "\n",
        "\n",
        "def hypothesis(features):\n",
        "\n",
        "  input_layer_logit = tf.matmul(features, W_input) + b_input\n",
        "  input_layer = tf.sigmoid(input_layer_logit)\n",
        "  output_layer_logit = tf.matmul(input_layer, W_output) + b_output\n",
        "  output_layer = tf.sigmoid(output_layer_logit)\n",
        "\n",
        "  return output_layer\n",
        "\n",
        "def neural_net(features):\n",
        "    layer1 = tf.sigmoid(tf.matmul(features, W1) + b1)\n",
        "    layer2 = tf.sigmoid(tf.matmul(features, W2) + b2)\n",
        "    layer3 = tf.concat([layer1, layer2],-1)\n",
        "    layer3 = tf.reshape(layer3, shape = [-1,2])\n",
        "    hypothesis = tf.sigmoid(tf.matmul(layer3, W3) + b3)\n",
        "    return hypothesis\n",
        "\n",
        "def get_cost(features, labels):\n",
        "  output = hypothesis(features)\n",
        "  cost = labels * tf.math.log(output) + (1-labels) * tf.math.log(1-output)\n",
        "  mean_cost = -tf.reduce_mean(cost)\n",
        "\n",
        "  return mean_cost\n",
        "\n",
        "def get_accuracy(features, labels):\n",
        "  output = hypothesis(features)\n",
        "  output = tf.cast(output > 0.5, dtype=tf.float32)\n",
        "  accuracy = tf.reduce_mean(tf.cast(tf.equal(output,labels), dtype=tf.float32))\n",
        "  \n",
        "  return accuracy\n",
        "\n",
        "optimizer = tf.keras.optimizers.SGD(learning_rate=0.01)\n",
        "\n",
        "def fit(dataset, epoch=50000, verbose=5000):\n",
        "  for i in range(epoch):\n",
        "    for features, labels in dataset:    \n",
        "      with tf.GradientTape() as g:\n",
        "        cost = get_cost(features, labels)\n",
        "        grads = g.gradient(cost, [W_input, W_output, b_input, b_output])\n",
        "        optimizer.apply_gradients(grads_and_vars = zip(grads, [W_input, W_output, b_input, b_output]))\n",
        "\n",
        "      if((i % verbose) == 0):\n",
        "        print(\"Epoch : {}, Loss : {:.4f}\".format(i, cost))\n",
        "\n",
        "\n",
        "start = time.time()  # 시작 시간 저장\n",
        "for k in range(1):\n",
        "  W_input = tf.Variable(tf.random.normal([2,2]), dtype = tf.float32)\n",
        "  b_input = tf.Variable(tf.random.normal([1,2]), dtype=tf.float32)\n",
        "  W_output = tf.Variable(tf.random.normal([2,1]), dtype = tf.float32)\n",
        "  b_output = tf.Variable(tf.random.normal([1,]), dtype=tf.float32)\n",
        "\n",
        "  x_data = [[0, 0],\n",
        "            [0, 1],\n",
        "            [1, 0],\n",
        "            [1, 1]]\n",
        "  y_data = [[0],\n",
        "            [1],\n",
        "            [1],\n",
        "            [0]]\n",
        "  x_data, y_data = preprocess_data(x_data, y_data)\n",
        "  dataset = tf.data.Dataset.from_tensor_slices((x_data, y_data)).batch(len(x_data))\n",
        "  fit(dataset)\n",
        "\n",
        "  test_acc = get_accuracy(x_data, y_data)\n",
        "  print('test accr : {}'.format(test_acc))\n",
        "\n",
        "print(\"time :\", time.time() - start)  # 현재시각 - 시작시간 = 실행 시간\n"
      ],
      "execution_count": 91,
      "outputs": [
        {
          "output_type": "stream",
          "text": [
            "Epoch : 0, Loss : 1.0163\n",
            "Epoch : 5000, Loss : 0.6933\n",
            "Epoch : 10000, Loss : 0.6930\n",
            "Epoch : 15000, Loss : 0.6925\n",
            "Epoch : 20000, Loss : 0.6914\n",
            "Epoch : 25000, Loss : 0.6879\n",
            "Epoch : 30000, Loss : 0.6748\n",
            "Epoch : 35000, Loss : 0.6232\n",
            "Epoch : 40000, Loss : 0.4802\n",
            "Epoch : 45000, Loss : 0.2679\n",
            "test accr : 1.0\n",
            "time : 264.1743702888489\n"
          ],
          "name": "stdout"
        }
      ]
    },
    {
      "cell_type": "code",
      "metadata": {
        "id": "9RH0DyqXyYo4",
        "colab_type": "code",
        "colab": {}
      },
      "source": [
        ""
      ],
      "execution_count": 0,
      "outputs": []
    }
  ]
}