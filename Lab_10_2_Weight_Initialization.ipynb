{
  "nbformat": 4,
  "nbformat_minor": 0,
  "metadata": {
    "colab": {
      "name": "Lab_10_2 Weight Initialization.ipynb",
      "provenance": [],
      "collapsed_sections": [],
      "authorship_tag": "ABX9TyP0Ll1FeBhekFGpM2Ympl2Y",
      "include_colab_link": true
    },
    "kernelspec": {
      "name": "python3",
      "display_name": "Python 3"
    }
  },
  "cells": [
    {
      "cell_type": "markdown",
      "metadata": {
        "id": "view-in-github",
        "colab_type": "text"
      },
      "source": [
        "<a href=\"https://colab.research.google.com/github/LeeDongGeon1996/TensorFlow-study-note/blob/master/Lab_10_2_Weight_Initialization.ipynb\" target=\"_parent\"><img src=\"https://colab.research.google.com/assets/colab-badge.svg\" alt=\"Open In Colab\"/></a>"
      ]
    },
    {
      "cell_type": "markdown",
      "metadata": {
        "id": "_g8pHBIP8z9M",
        "colab_type": "text"
      },
      "source": [
        "# Lab_10_2 Weight Initialization\n",
        "\n",
        " * model의 weight를 He_uniform으로 초기화하였다.\n"
      ]
    },
    {
      "cell_type": "code",
      "metadata": {
        "id": "S_xX4M7R8ywV",
        "colab_type": "code",
        "outputId": "4b04d77e-857e-4dd7-f6bc-02576a0f2241",
        "colab": {
          "base_uri": "https://localhost:8080/",
          "height": 34
        }
      },
      "source": [
        "%tensorflow_version 2.x\n",
        "import tensorflow as tf\n",
        "import numpy as np\n"
      ],
      "execution_count": 0,
      "outputs": [
        {
          "output_type": "stream",
          "text": [
            "TensorFlow 2.x selected.\n"
          ],
          "name": "stdout"
        }
      ]
    },
    {
      "cell_type": "code",
      "metadata": {
        "id": "q-4_GN7dBEdI",
        "colab_type": "code",
        "colab": {}
      },
      "source": [
        "\n",
        "def load_mnist():\n",
        "  (train_data, train_labels), (test_data, test_labels) = tf.keras.datasets.mnist.load_data()\n",
        "  #print(type(train_data[0][0][0]))\n",
        "  train_data, test_data = normalize(train_data, test_data)\n",
        "  train_labels = tf.keras.utils.to_categorical(train_labels, 10)\n",
        "  test_labels = tf.keras.utils.to_categorical(test_labels, 10)\n",
        "\n",
        "  return train_data, train_labels, test_data, test_labels\n",
        "\n",
        "\n",
        "def normalize(train_data, test_data):\n",
        "  train_data = train_data.astype(np.float32) / 255.0\n",
        "  test_data = test_data.astype(np.float32) / 255.0\n",
        "  return train_data, test_data\n",
        "\n",
        "\n",
        "def flatten():\n",
        "  return tf.keras.layers.Flatten()\n",
        "\n",
        "def dense(channel, activation_fn='relu', weight_unit='random_uniform'):\n",
        "  return tf.keras.layers.Dense(units=channel, activation=activation_fn, kernel_initializer=weight_unit)\n",
        "\n",
        "\n",
        "class mnist_model(tf.keras.Model):\n",
        "  def __init__(self, label_dim):\n",
        "    super(mnist_model, self).__init__()\n",
        "\n",
        "    self.model = tf.keras.Sequential()\n",
        "    \n",
        "    #input_layer\n",
        "    self.model.add(flatten())\n",
        "\n",
        "    #hidden layer\n",
        "    self.model.add(dense(1024))\n",
        "    self.model.add(dense(256))\n",
        "\n",
        "    #output layer\n",
        "    self.model.add(dense(label_dim, activation_fn=None))\n",
        "    #self.model.add(dense(label_dim, activation_fn=tf.keras.activations.softmax))\n",
        "\n",
        "\n",
        "  def call(self, x, training=None, mask=None):\n",
        "    x = self.model(x)\n",
        "    return x\n",
        "\n",
        "def loss_fn(model, images, labels):\n",
        "  logits = model(images ,training=True)\n",
        "  loss = tf.reduce_mean(tf.nn.softmax_cross_entropy_with_logits(labels, logits))\n",
        "  return loss\n",
        "\n",
        "def accuracy_fn(model, images, labels):\n",
        "  logits = model(images, training=False)\n",
        "  compare = tf.equal(tf.argmax(logits, -1), tf.argmax(labels, -1))\n",
        "  accuracy = tf.reduce_mean(tf.cast(compare, tf.float32))\n",
        "  return accuracy\n",
        "\n",
        "#def grad(model, images, labels):\n",
        "\n",
        "optimizer = tf.keras.optimizers.Adam(learning_rate=0.01)\n",
        "def fit(model, dataset, test_data, epoch=5, verbose=1):\n",
        "  for i in range(epoch):\n",
        "    for x_train, y_train in dataset:\n",
        "      with tf.GradientTape() as g:\n",
        "        loss = loss_fn(model, x_train, y_train)\n",
        "        grads = g.gradient(loss, model.variables)\n",
        "        optimizer.apply_gradients(grads_and_vars=zip(grads, model.variables))\n",
        "\n",
        "        for test_x, test_y in test_data:\n",
        "          acc = accuracy_fn(model, test_x, test_y)\n",
        "    if (i%verbose)==0:\n",
        "          print(\"Epoch: {}, loss: {:.4f}, acc: {:.4f}\".format(i, loss, acc))\n",
        "\n"
      ],
      "execution_count": 0,
      "outputs": []
    },
    {
      "cell_type": "code",
      "metadata": {
        "id": "ycFvC6wLBV9r",
        "colab_type": "code",
        "outputId": "91cca08f-97fe-45aa-a4a1-01f7ada6c903",
        "colab": {
          "base_uri": "https://localhost:8080/",
          "height": 105
        }
      },
      "source": [
        "train_x, train_y, test_x, test_y = load_mnist()\n",
        "label_dim = 10\n",
        "network = mnist_model(label_dim)\n",
        "batch_size=1024\n",
        "\n",
        "train_dataset = tf.data.Dataset.from_tensor_slices((train_x, train_y)).\\\n",
        "    shuffle(buffer_size=100000).\\\n",
        "    prefetch(buffer_size=batch_size).\\\n",
        "    batch(batch_size, drop_remainder=True)\n",
        "\n",
        "test_dataset = tf.data.Dataset.from_tensor_slices((test_x, test_y)).\\\n",
        "    shuffle(buffer_size=100000).\\\n",
        "    prefetch(buffer_size=len(test_x)).\\\n",
        "    batch(len(test_x))\n",
        "\n",
        "fit(network, train_dataset, test_dataset)\n",
        "\n"
      ],
      "execution_count": 0,
      "outputs": [
        {
          "output_type": "stream",
          "text": [
            "Epoch: 0, loss: 1.9003, acc: 0.5784\n",
            "Epoch: 1, loss: 1.6985, acc: 0.7664\n",
            "Epoch: 2, loss: 1.6209, acc: 0.8607\n",
            "Epoch: 3, loss: 1.6162, acc: 0.8585\n",
            "Epoch: 4, loss: 1.6044, acc: 0.8628\n"
          ],
          "name": "stdout"
        }
      ]
    },
    {
      "cell_type": "code",
      "metadata": {
        "id": "kxC2ON9KWW-U",
        "colab_type": "code",
        "colab": {}
      },
      "source": [
        ""
      ],
      "execution_count": 0,
      "outputs": []
    }
  ]
}