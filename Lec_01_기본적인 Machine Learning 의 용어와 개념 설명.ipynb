{
  "nbformat": 4,
  "nbformat_minor": 0,
  "metadata": {
    "colab": {
      "name": "season1-to-lab1.ipynb",
      "provenance": [],
      "collapsed_sections": [],
      "authorship_tag": "ABX9TyOgo9hFPZFfWAvIUkxJ15y0",
      "include_colab_link": true
    },
    "kernelspec": {
      "name": "python3",
      "display_name": "Python 3"
    }
  },
  "cells": [
    {
      "cell_type": "markdown",
      "metadata": {
        "id": "view-in-github",
        "colab_type": "text"
      },
      "source": [
        "<a href=\"https://colab.research.google.com/github/LeeDongGeon1996/TensorFlow/blob/master/study-note/season1_to_lab1.ipynb\" target=\"_parent\"><img src=\"https://colab.research.google.com/assets/colab-badge.svg\" alt=\"Open In Colab\"/></a>"
      ]
    },
    {
      "cell_type": "markdown",
      "metadata": {
        "id": "zLgCEjK5PsNp",
        "colab_type": "text"
      },
      "source": [
        "# ML Lec 00 \n",
        "Linear regression, Logistic regression이해하면 CNN RNN이해 가능\n",
        "\n",
        "# ML Lec 01 \n",
        "what is ML?? explicit programming은 rule based programming으로 너무 많은 rule이 필요.<br />\n",
        "현실적으로 불가능. --> 데이터로부터 학습하여 rule을 뽑아내자..<br />\n",
        "learning의 방법에 따라 supervised/ unsupervised learning으로 구분됨.\n",
        "\n",
        "## Supervised learning \n",
        "labeled(답?)이 주어진 데이터셋으로 학습. 예측된 결과에 따라 다르게 분류할 수 있는데.. <br />\n",
        "범위예측 - regression.<br />\n",
        "true/false - binary classification. <br />\n",
        "a/b/c/d/f - multi-label classificatin.<br />\n",
        "->즉, 크게 regression과 classification 두가지가있는것이다.\n",
        "\n",
        "## Unsupervised learning \n",
        "un-labeled 데이터셋으로 학습.\n",
        "\n",
        "# ML Lab 01\n",
        "\n",
        "## TensorFLow\n",
        "data flow graph를 사용한 numeric computation을 수행하는 라이브러리.<br />\n",
        "Python기반.\n",
        "\n",
        "## Data FLow Graph\n",
        "node와 edge로 구성.<br />\n",
        "node : 수학적 연산(operation)<br />\n",
        "edge : multi-dimenstional data array(tensor)<br />\n",
        "tensorflow는 그래프를 먼저 정의한다. placeholder로 node를 구성하고 feed_dict로 node에 입력될 값을 준다.<br />\n",
        "--> tensorflow2에서는 @tf.function데코레이터를 통해 eager execution이 가능. <br />\n",
        "즉, session을 통해 실행할 필요x 파이썬 함수를 정의한 후, 데코레이터를 지정하면 함수의 parameter는 placeholder(node) patameter로 들어간 instance는 feed_dict의 값이 된다.\n",
        "\n",
        "## Term \n",
        "### Tensor\n",
        "그래프상의 값들.\n",
        "\n",
        "### Tensor Rank\n",
        "0 = scalar - 하나의 수<br />\n",
        "1 = vector - 1 dimension ary<br />\n",
        "2 = matrix - 2 dimension ary<br />\n",
        "3 = 3-Tensor - 3-d ary<br />\n",
        "n = n-Tensor - n-d ary\n",
        "\n",
        "### Shape\n",
        "차원별로 몇개의 tensor가 들어있는가.<br />\n",
        "ex) [D0, D1, D2] 표현할 차원이 3개이므로 rank는 3 <br />\n",
        "[[2,3], [1,2,3]]의 shape는 [2, 3]\n",
        "\n",
        "### Type\n",
        "데이터 타입(자료형, int32, float32...etc)"
      ]
    },
    {
      "cell_type": "code",
      "metadata": {
        "id": "wA5CSQ1mPqDx",
        "colab_type": "code",
        "colab": {}
      },
      "source": [
        ""
      ],
      "execution_count": 0,
      "outputs": []
    }
  ]
}