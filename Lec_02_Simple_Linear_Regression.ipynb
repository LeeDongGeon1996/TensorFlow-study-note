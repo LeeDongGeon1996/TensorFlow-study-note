{
  "nbformat": 4,
  "nbformat_minor": 0,
  "metadata": {
    "colab": {
      "name": "Lec2-Simple-Linear-Regression.ipynb",
      "provenance": [],
      "collapsed_sections": [],
      "authorship_tag": "ABX9TyPoB3GOTlGUAVJHqWi7r+Y2",
      "include_colab_link": true
    },
    "kernelspec": {
      "name": "python3",
      "display_name": "Python 3"
    }
  },
  "cells": [
    {
      "cell_type": "markdown",
      "metadata": {
        "id": "view-in-github",
        "colab_type": "text"
      },
      "source": [
        "<a href=\"https://colab.research.google.com/github/LeeDongGeon1996/TensorFlow/blob/master/study-note/Lec2_Simple_Linear_Regression.ipynb\" target=\"_parent\"><img src=\"https://colab.research.google.com/assets/colab-badge.svg\" alt=\"Open In Colab\"/></a>"
      ]
    },
    {
      "cell_type": "markdown",
      "metadata": {
        "id": "8c4mhx8AQZ35",
        "colab_type": "text"
      },
      "source": [
        "# Lec2 Simple Linear Regression\n",
        "\n",
        "## Regression\n",
        "'후퇴', '퇴보'라는 의미가 X <br />\n",
        "\"Regression toward the mean\"이라는 뜻.<br />\n",
        "전체의 평균으로 (회귀한다)되돌아간다. 라는 의미정도<br />\n",
        "\n",
        "\n",
        "## Linear Regression\n",
        "데이터를 잘 설명하는 직선의 방정식을 찾는 것.<br />\n",
        "$y = ax + b$\n",
        "에서 적절한 a와 b를 찾는 것.<br />\n",
        "\n",
        "## Hypothesis\n",
        "가설.<br />\n",
        "$H(x) = Wx + b$가 가장 적절한 데이터의 설명임.(가정하는 것)<br />\n",
        "과연 $H(x)$가 얼마나 데이터를 잘 대변하는가?<br />\n",
        "--> **`Cost`**\n",
        "\n",
        "## Cost\n",
        "우리의 가설과 실제 데이터와의 차이.<br />\n",
        "즉, error의 크기.<br />\n",
        "우리는 그러므로 cost가 최소화 되도록 해야한다.<br />\n",
        "error값은 양수 혹은 음수이다.<br />\n",
        "-> error의 제곱의 평균이 최소화 되도록한다.<br />\n",
        "이때 error의 제곱의 평균의 값을 구하는 함수가 바로 **`Cost Function`**\n",
        "\n"
      ]
    },
    {
      "cell_type": "code",
      "metadata": {
        "id": "t4cicAukQWu1",
        "colab_type": "code",
        "colab": {}
      },
      "source": [
        ""
      ],
      "execution_count": 0,
      "outputs": []
    }
  ]
}