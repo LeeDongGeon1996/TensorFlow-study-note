{
  "nbformat": 4,
  "nbformat_minor": 0,
  "metadata": {
    "colab": {
      "name": "Lec-03.ipynb",
      "provenance": [],
      "collapsed_sections": [],
      "authorship_tag": "ABX9TyNSezMgA0YCp2hXp7WkCX+D",
      "include_colab_link": true
    },
    "kernelspec": {
      "name": "python3",
      "display_name": "Python 3"
    }
  },
  "cells": [
    {
      "cell_type": "markdown",
      "metadata": {
        "id": "view-in-github",
        "colab_type": "text"
      },
      "source": [
        "<a href=\"https://colab.research.google.com/github/LeeDongGeon1996/TensorFlow/blob/master/study-note/Lec_03.ipynb\" target=\"_parent\"><img src=\"https://colab.research.google.com/assets/colab-badge.svg\" alt=\"Open In Colab\"/></a>"
      ]
    },
    {
      "cell_type": "markdown",
      "metadata": {
        "id": "lyGWJusYOdQC",
        "colab_type": "text"
      },
      "source": [
        "# Lec-03 Liner Regression and How to minimize cost\n",
        "Hypothesis가 데이터를 가장 잘 설명하는 W와 b를 찾기 위해 <br />\n",
        "우리는 cost를 최소화 시켜야한다.(Cost는 오차의 제곱의 합이므로 오차를 최소화 시킨다는 것이다.)<br />\n",
        "\n",
        "## Gradient Descent algorithm\n",
        "경사하강법.<br />\n",
        "Cost함수의 극소값을 찾는 알고리즘.<br />\n",
        "최소화문제에 자주 쓰이는 알고리즘.<br />\n",
        "나는 두 개의 변수(W, b)에만 적용을 해봤지만 더 많은 변수가 있을때도 적용가능.<br />\n",
        "### How it works??\n",
        "* 최초의 랜덤한 W,b를 정한다.\n",
        "* cost(W, b)가 최소화가 되도록 epoch를 지날 때마다 W,b를 **조금씩**업데이트 한다.\n",
        "* Cost가 최솟점에 도달했다고 판단할 때까지.<br />\n",
        "\n",
        "\n",
        "## Formal Definition of Gradient Descent\n",
        "`수학적인 부분임. 인터넷 검색 ㄱㄱ`\n",
        "\n",
        "## WARNING\n",
        "* Global Minimum이 아닌 Local Minimum으로 수렴할 수도 있음\n",
        "이 경우 최적의 값을 찾지 못함.\n",
        "* 즉, Local minimum이 여러개 존재하는 함수에서는 사용하지 못함.\n",
        "* Global = Local Minumum 인 함수(Convex function)에서만 사용 가능한 알고리즘이다.\n",
        "\n"
      ]
    },
    {
      "cell_type": "code",
      "metadata": {
        "id": "4OBXSeKFGMqi",
        "colab_type": "code",
        "outputId": "e65a660a-445a-4c7e-e666-ceea1b643707",
        "colab": {
          "base_uri": "https://localhost:8080/",
          "height": 35
        }
      },
      "source": [
        "%tensorflow_version 2.x\n",
        "\n",
        "import tensorflow as tf"
      ],
      "execution_count": 0,
      "outputs": [
        {
          "output_type": "stream",
          "text": [
            "TensorFlow 2.x selected.\n"
          ],
          "name": "stdout"
        }
      ]
    },
    {
      "cell_type": "code",
      "metadata": {
        "id": "0oQoFifZIN7h",
        "colab_type": "code",
        "outputId": "9343bf82-1405-46f4-adbd-6958af128b8f",
        "colab": {
          "base_uri": "https://localhost:8080/",
          "height": 136
        }
      },
      "source": [
        "tf"
      ],
      "execution_count": 0,
      "outputs": [
        {
          "output_type": "error",
          "ename": "SyntaxError",
          "evalue": "ignored",
          "traceback": [
            "\u001b[0;36m  File \u001b[0;32m\"<ipython-input-3-152b50a4a1ee>\"\u001b[0;36m, line \u001b[0;32m1\u001b[0m\n\u001b[0;31m    tf.\u001b[0m\n\u001b[0m       ^\u001b[0m\n\u001b[0;31mSyntaxError\u001b[0m\u001b[0;31m:\u001b[0m invalid syntax\n"
          ]
        }
      ]
    },
    {
      "cell_type": "code",
      "metadata": {
        "id": "-P1FKQn1IWaG",
        "colab_type": "code",
        "colab": {}
      },
      "source": [
        ""
      ],
      "execution_count": 0,
      "outputs": []
    }
  ]
}