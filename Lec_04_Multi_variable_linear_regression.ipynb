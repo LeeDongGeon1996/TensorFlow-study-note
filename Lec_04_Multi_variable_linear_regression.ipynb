{
  "nbformat": 4,
  "nbformat_minor": 0,
  "metadata": {
    "colab": {
      "name": "Lec_04 Multi variable linear regression.ipynb",
      "provenance": [],
      "collapsed_sections": [],
      "authorship_tag": "ABX9TyOMAYBS9FoZO/mu1YrxflVq",
      "include_colab_link": true
    },
    "kernelspec": {
      "name": "python3",
      "display_name": "Python 3"
    }
  },
  "cells": [
    {
      "cell_type": "markdown",
      "metadata": {
        "id": "view-in-github",
        "colab_type": "text"
      },
      "source": [
        "<a href=\"https://colab.research.google.com/github/LeeDongGeon1996/TensorFlow/blob/master/study-note/Lec_04_Multi_variable_linear_regression.ipynb\" target=\"_parent\"><img src=\"https://colab.research.google.com/assets/colab-badge.svg\" alt=\"Open In Colab\"/></a>"
      ]
    },
    {
      "cell_type": "markdown",
      "metadata": {
        "id": "dBAJYJKXL1eC",
        "colab_type": "text"
      },
      "source": [
        "# Lec-04 Multi variable linear regression\n",
        "\n",
        "변수가 여러개인 경우 그만큼 변수의 갯수만큼\n",
        "가중치의 갯수도 늘어난다. <br /><br />\n",
        "즉, 변수가 3개라면 - $W1$, $W2$, $W3$ <br />\n",
        "3개의 가중치가 필요한 것이다.<br /><br />\n",
        "\n",
        "이 $H(x)$를 우리는 \n",
        "행렬의 `Dot Product`를 이용하여 `Hypothesis`를 표현한다.<br /><br />\n",
        "즉, 3개의 변수는 [1,3]의 shape을 가진 행렬 $X$가 되고<br />\n",
        "각각의 가중치는 [3,1]의 shape을 가진 행렬 $W$가 되어<br />\n",
        "$H(X) = XW$ 로 표현할 수 있다.<br />\n",
        "(이때, 행렬의 곱이므로 $WX$ 가 아닌 $XW$임을 유의하자. )<br /><br />\n",
        "\n",
        "### 참고. feature와 instance\n",
        "`feature` : 데이터의 종류, 즉 feature가 3이라함은 변수의 갯수가 3임을 의미.<br />\n",
        "`instance` : 한 쌍의 데이터 `feature`의 갯수가 3일 때, ($x1$, $x2$, $x3$)이\n",
        "하나의 `instance`가 된다. <br />\n",
        "\n",
        "\n",
        "###input과 output\n",
        "\n",
        "[n, 3] * [? ,?] = [n, 2]\n",
        "이라면 <br />\n",
        "[n, 3] * [3 ,2] = [n, 2]\n",
        "가 되어야한다. <br />\n",
        "이때 3은 feature의 갯수이고<br />\n",
        "2는 output의 갯수이다.<br />\n",
        "\n",
        "### 이때, 행렬의 곱이므로 $WX$ 가 아닌 $XW$임을 유의하자.\n",
        "이론상, $H(x) = Wx + b$로 표현되지만,<br />\n",
        "실제 구현에서는 x의 열과 W의 행의 수가 일치해야하므로<br />\n",
        "$H(X) = XW$로 구현한다. \n",
        "\n"
      ]
    }
  ]
}