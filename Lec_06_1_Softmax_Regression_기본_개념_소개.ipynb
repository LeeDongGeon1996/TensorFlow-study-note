{
  "nbformat": 4,
  "nbformat_minor": 0,
  "metadata": {
    "colab": {
      "name": "Lec_06_1 Softmax Regression: 기본 개념 소개.ipynb",
      "provenance": [],
      "collapsed_sections": [],
      "authorship_tag": "ABX9TyMHZx/JVnkRWMKz5Mm4265L",
      "include_colab_link": true
    },
    "kernelspec": {
      "name": "python3",
      "display_name": "Python 3"
    }
  },
  "cells": [
    {
      "cell_type": "markdown",
      "metadata": {
        "id": "view-in-github",
        "colab_type": "text"
      },
      "source": [
        "<a href=\"https://colab.research.google.com/github/LeeDongGeon1996/TensorFlow/blob/master/study-note/Lec_06_1_Softmax_Regression_%EA%B8%B0%EB%B3%B8_%EA%B0%9C%EB%85%90_%EC%86%8C%EA%B0%9C.ipynb\" target=\"_parent\"><img src=\"https://colab.research.google.com/assets/colab-badge.svg\" alt=\"Open In Colab\"/></a>"
      ]
    },
    {
      "cell_type": "markdown",
      "metadata": {
        "id": "L9BiVBrE5Cwe",
        "colab_type": "text"
      },
      "source": [
        "#Lec_06_1 Softmax Regression: 기본 개념 소개\n",
        "\n",
        "여래개의 클래스가 있을 때, 그것을 예측하는 <br />\n",
        "`multinomial-classification` <br />\n",
        "그 중에서 가장 많이 사용되는 방법은<br />\n",
        "`Softmax classification`!!!!\n",
        "\n",
        "### *참고. exp(x)의 의미\n",
        "$e$ stands for `exponential`. Euler discovered it and did it. <br />\n",
        ">The number \"e\" is the \"natural\" exponential, because it arises naturally in math and the physical sciences (that is, in \"real life\" situations), just as pi arises naturally in geometry. This number was discovered by a guy named Euler (pronounced \"OY-ler\"; I think he was Swiss), who described the number and named the number \"e\", and then swore that this stood for \"exponential\", and not for his own name. <br />\n",
        "\n",
        "어쨋거나, `Exponential function`은 $y = e^x$를 의미한다.(일반적으로, 암시적으로...ㅇㅇ)<br />\n",
        "그러니까 `exp(x)`는 $e^x$를 뜻한다는 것이다...<br />\n",
        "\n",
        "\n",
        "### multinomial-classification\n",
        "이전의 강의에서 `Linear Regression`을 배울때,<br />\n",
        "`feature`의 갯수가 많아지면 그만큼 $W$(parameter)의 갯수도 많아 졌다.<br />\n",
        "`instance`의 갯수가 많아지면 $X$의 행이 늘어나고 feature의 갯수만큼의 $W$와 연산했다.<br />\n",
        "\n",
        "> 이번 경우는 ouput의 경우가 많은 경우이다.\n",
        "즉, $W$의 행이 늘어나야 한다는 것이다.\n",
        ">> 2개이상, 그러니까 3개의 분류를 한다고 하자.\n",
        "우리는 `binary classification`을 3개 구현함으로써 수행할 수 있다.\n",
        ">>> 1. A와 / A가 아닌 것들\n",
        "2. B와 / B가 아닌 것들\n",
        "3. C와 / C가 아닌 것들 <br />\n",
        "\n",
        ">>즉, `binary classification`이 3개가 필요하므로,<br />\n",
        "output이 3개가 필요하다는 것이다. <br />\n",
        "그래서 parameter를 표현하는 행렬 $W$의 행의 갯수가 3이되어야한다.<br />\n",
        "\n",
        "##### 이러한 방식으로(binary-classification)을 사용하여 multinomial-classification을 구현할 수 있다.\n",
        "##### 그리고 이러한 방식말고 softmax를 사용하면 훨씬 간단하게 수행될수있다.\n"
      ]
    },
    {
      "cell_type": "code",
      "metadata": {
        "id": "UuQ7dRAY38Bc",
        "colab_type": "code",
        "colab": {}
      },
      "source": [
        "ㅉ"
      ],
      "execution_count": 0,
      "outputs": []
    }
  ]
}