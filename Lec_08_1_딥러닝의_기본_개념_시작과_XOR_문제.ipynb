{
  "nbformat": 4,
  "nbformat_minor": 0,
  "metadata": {
    "colab": {
      "name": "Lec_08-1: 딥러닝의 기본 개념: 시작과 XOR 문제.ipynb",
      "provenance": [],
      "collapsed_sections": [],
      "authorship_tag": "ABX9TyMHcOPB8PNOux8FrTsg7qJz",
      "include_colab_link": true
    },
    "kernelspec": {
      "name": "python3",
      "display_name": "Python 3"
    }
  },
  "cells": [
    {
      "cell_type": "markdown",
      "metadata": {
        "id": "view-in-github",
        "colab_type": "text"
      },
      "source": [
        "<a href=\"https://colab.research.google.com/github/LeeDongGeon1996/TensorFlow-study-note/blob/master/Lec_08_1_%EB%94%A5%EB%9F%AC%EB%8B%9D%EC%9D%98_%EA%B8%B0%EB%B3%B8_%EA%B0%9C%EB%85%90_%EC%8B%9C%EC%9E%91%EA%B3%BC_XOR_%EB%AC%B8%EC%A0%9C.ipynb\" target=\"_parent\"><img src=\"https://colab.research.google.com/assets/colab-badge.svg\" alt=\"Open In Colab\"/></a>"
      ]
    },
    {
      "cell_type": "markdown",
      "metadata": {
        "id": "GzD24O4hAOwL",
        "colab_type": "text"
      },
      "source": [
        "# Lec_08-1: 딥러닝의 기본 개념: 시작과 XOR 문제\n",
        "\n",
        "```\n",
        "def logit_fn(features):\n",
        "  return tf.matmul(features, W) + b\n",
        "\n",
        "def hypothesis(features):\n",
        "  return tf.nn.softmax(logit_fn(features))\n",
        "```\n",
        " * 이 코드에서 `logit`이 `cell body(뉴런 몸통)`에 해당하는 것.\n",
        " * `classifier`(softmax를 사용함)는 사실 `Activation function`이었던것이다.\n",
        "\n",
        "\n",
        "# Linear separable \n",
        " * `AND`, `OR` 연산은 `Linear separable`히여 `단일 신경(단층 신경망?)`으로 구현이 가능했다.<br />\n",
        " * 그러나 `XOR`은 `Linear separable`하지 않아서 불가능했다.<br />\n",
        " * 그래서 `다층 신경망`이라는 것이 나왔다고 책에서 읽은것같음.\n",
        "\n",
        "# 그래서..\n",
        " * MLP(Multi-layer-perceptrons)로는 가능했는데,<br />\n",
        " MLP를 구성하는 unit들을 학습시킬 방법이 없었다. 그당시.\n",
        " * 하지만 사실 이것은 `backpropagation`이라는 방법으로 가능한것이었다!\n",
        "\n",
        "# 그러나..\n",
        "\n",
        " * `backpropagation`은 수많은 layer가있는 network에서는 잘 작동 하지 않았다.\n",
        " * layer가 많을 수록 역전파가 희석되었기 때문이다.\n",
        " * 그래서 `SVM(Support Vector Machine)`, `RamdomForest`와 같은 알고리즘이 등장하였다.\n",
        "  "
      ]
    },
    {
      "cell_type": "code",
      "metadata": {
        "id": "7EQZBvDAAIKv",
        "colab_type": "code",
        "colab": {}
      },
      "source": [
        ""
      ],
      "execution_count": 0,
      "outputs": []
    }
  ]
}