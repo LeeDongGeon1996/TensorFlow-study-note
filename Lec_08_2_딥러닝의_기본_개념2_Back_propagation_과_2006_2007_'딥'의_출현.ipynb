{
  "nbformat": 4,
  "nbformat_minor": 0,
  "metadata": {
    "colab": {
      "name": "Lec_08-2: 딥러닝의 기본 개념2: Back-propagation 과 2006/2007 '딥'의 출현.ipynb",
      "provenance": [],
      "collapsed_sections": [],
      "authorship_tag": "ABX9TyOATDlYtvFCLvlB3YfgQkD1",
      "include_colab_link": true
    },
    "kernelspec": {
      "name": "python3",
      "display_name": "Python 3"
    }
  },
  "cells": [
    {
      "cell_type": "markdown",
      "metadata": {
        "id": "view-in-github",
        "colab_type": "text"
      },
      "source": [
        "<a href=\"https://colab.research.google.com/github/LeeDongGeon1996/TensorFlow-study-note/blob/master/Lec_08_2_%EB%94%A5%EB%9F%AC%EB%8B%9D%EC%9D%98_%EA%B8%B0%EB%B3%B8_%EA%B0%9C%EB%85%902_Back_propagation_%EA%B3%BC_2006_2007_'%EB%94%A5'%EC%9D%98_%EC%B6%9C%ED%98%84.ipynb\" target=\"_parent\"><img src=\"https://colab.research.google.com/assets/colab-badge.svg\" alt=\"Open In Colab\"/></a>"
      ]
    },
    {
      "cell_type": "markdown",
      "metadata": {
        "id": "aTo8cEwxM_23",
        "colab_type": "text"
      },
      "source": [
        "# Lec_08-2: 딥러닝의 기본 개념2: Back-propagation 과 2006/2007 '딥'의 출현\n",
        "\n",
        "#### CIFAR\n",
        " * 당시 nueral network의 전망이 밝지 않았음에도 불구하고 지속적인 지원과 연구환경에 기여한 캐나다의 연구소.\n",
        " * ML에 필요한 DataSet도 제공하는듯? `CIFAR-10`, `CIFAR-100`\n",
        "\n",
        " <br /><br /><br /><br />\n",
        "\n",
        " #### 기존의 backpropagation은 많은 layer가 있는 neural net에서는 효과가 없었다고 했다. \n",
        "  \n",
        "  >많은 layer가 있는 = deep neural network\n",
        "\n",
        "  * 그러나 사실 초깃값 즉, `initial weight`를 랜덤이 아닌 적절한 값을 준다면 충분히 학습가능했음이 밝혀졌다.\n",
        "\n",
        "  \n",
        "\n",
        "\n",
        "\n"
      ]
    },
    {
      "cell_type": "code",
      "metadata": {
        "id": "22yjFiXKM8AJ",
        "colab_type": "code",
        "colab": {}
      },
      "source": [
        ""
      ],
      "execution_count": 0,
      "outputs": []
    }
  ]
}