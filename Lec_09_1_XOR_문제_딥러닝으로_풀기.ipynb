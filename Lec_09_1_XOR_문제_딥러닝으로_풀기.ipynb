{
  "nbformat": 4,
  "nbformat_minor": 0,
  "metadata": {
    "colab": {
      "name": "Lec_09-1: XOR 문제 딥러닝으로 풀기.ipynb",
      "provenance": [],
      "collapsed_sections": [],
      "authorship_tag": "ABX9TyOKUoQ5UqQozCUXGo/3A0QM",
      "include_colab_link": true
    },
    "kernelspec": {
      "name": "python3",
      "display_name": "Python 3"
    }
  },
  "cells": [
    {
      "cell_type": "markdown",
      "metadata": {
        "id": "view-in-github",
        "colab_type": "text"
      },
      "source": [
        "<a href=\"https://colab.research.google.com/github/LeeDongGeon1996/TensorFlow-study-note/blob/master/Lec_09_1_XOR_%EB%AC%B8%EC%A0%9C_%EB%94%A5%EB%9F%AC%EB%8B%9D%EC%9C%BC%EB%A1%9C_%ED%92%80%EA%B8%B0.ipynb\" target=\"_parent\"><img src=\"https://colab.research.google.com/assets/colab-badge.svg\" alt=\"Open In Colab\"/></a>"
      ]
    },
    {
      "cell_type": "markdown",
      "metadata": {
        "id": "UGAXx4O5Cp6H",
        "colab_type": "text"
      },
      "source": [
        "# Lec_09-1: XOR 문제 딥러닝으로 풀기\n",
        "\n",
        " * 하나의 `unit(perceptron)`으로는 구현할 수 없다고 증명됨.\n",
        " * 인공지능 겨울이 오게 만든 주요 원인.\n",
        " * 그러나 여러개의 `unit(neuron)`으로 구현할 수 있다.\n",
        " > MLP(Multi-layer-perceptron)\n",
        " ## 하지만... \n",
        " *그 당시 `network`상의 각각 `unit(neuron)`들을 할 수 없었는데...\n",
        " * 그 방법이 바로 `backpropagation` 이다.\n",
        " > `backpropagation`을 통해서 우리는 각각의 뉴런들을 학습시킬수 있었으나 <br />\n",
        " layer가 많아질 수록 초기 layer들은 역전파로 인한 학습이 제대로 되지 않는 문제가 발생하였다.\n",
        " >> 하지만 이 문제는 초기 `weight`값을 랜덤이 아닌 적절한 값을 준다면 해결되는 문제이다.\n",
        "\n",
        " ## 용어 \n",
        " `NN` = `Neural Network`\n",
        " \n",
        "\n",
        "## 하튼 동영상 강의에서 3개의 unit으로 XOR을 구현하는 것을 보임.(코드말고 계산하는 걸ㅇㅇ)\n",
        "\n",
        "\n"
      ]
    },
    {
      "cell_type": "code",
      "metadata": {
        "id": "2tCWxccJBwzl",
        "colab_type": "code",
        "colab": {}
      },
      "source": [
        "# Lec_09-1: XOR 문제 딥러닝으로 풀기\n",
        "\n"
      ],
      "execution_count": 0,
      "outputs": []
    }
  ]
}