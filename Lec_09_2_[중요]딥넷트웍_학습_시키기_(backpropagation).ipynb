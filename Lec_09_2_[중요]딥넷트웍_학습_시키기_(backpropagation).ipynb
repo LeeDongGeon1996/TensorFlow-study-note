{
  "nbformat": 4,
  "nbformat_minor": 0,
  "metadata": {
    "colab": {
      "name": "Lec_09-2: [중요]딥넷트웍 학습 시키기 (backpropagation).ipynb",
      "provenance": [],
      "collapsed_sections": [],
      "authorship_tag": "ABX9TyP6U310ekiUc3JPz4y6At69",
      "include_colab_link": true
    },
    "kernelspec": {
      "name": "python3",
      "display_name": "Python 3"
    }
  },
  "cells": [
    {
      "cell_type": "markdown",
      "metadata": {
        "id": "view-in-github",
        "colab_type": "text"
      },
      "source": [
        "<a href=\"https://colab.research.google.com/github/LeeDongGeon1996/TensorFlow-study-note/blob/master/Lec_09_2_%5B%EC%A4%91%EC%9A%94%5D%EB%94%A5%EB%84%B7%ED%8A%B8%EC%9B%8D_%ED%95%99%EC%8A%B5_%EC%8B%9C%ED%82%A4%EA%B8%B0_(backpropagation).ipynb\" target=\"_parent\"><img src=\"https://colab.research.google.com/assets/colab-badge.svg\" alt=\"Open In Colab\"/></a>"
      ]
    },
    {
      "cell_type": "markdown",
      "metadata": {
        "id": "T5HVjFJ1VVL2",
        "colab_type": "text"
      },
      "source": [
        "# Lec_09-2: 딥넷트웍 학습 시키기 (backpropagation)\n",
        "\n",
        "# 설명이 정말 잘되어있으니 헷갈리면 다시 한번 보면 좋을듯.\n",
        "[동영상 강의](https://www.youtube.com/watch?v=573EZkzfnZ0&list=PLQ28Nx3M4Jrguyuwg4xe9d9t2XE639e5C&index=24)\n",
        "\n",
        " * 미분값을 구한다는 것은 <br />\n",
        " > input으로 부터의 ouput 변화량을 구하는 것. <br />\n",
        "\n",
        " * 그런데 `Deep network`에서는 layer의 수가 많아 input에 따른 ouput을 변화를 계산하는 과정(계산량)이 매우 많아진다.\n",
        "\n",
        "### Forward propagation\n",
        " * 현재 W와b를 이용하여 데이터를 input해서 ouput을 얻는 과정.\n",
        "  \n",
        "### Back propagation\n",
        " * 기본적인 $hypothesis = Wx + b$ 일때, 각 변수 W,x,b에 관하여 편미분을 진행함으로써<br />\n",
        " 각 변수가 output에 얼마나 영향을 미치는지를 구할 수 있다.\n",
        " > 그 영향을 알아낼수 있으므로 우리는 backpropagation을 수행하여 값을 조정할 수 있는 것이다.\n",
        "\n",
        " <br />\n",
        " <br />\n",
        "\n",
        "### 그렇다면 `Deep network`에서 `backpropagaton`은 어떻게 수행될 수 있을까?\n",
        " * 순차적으로 가장 마지막에 있는 노드부터 미분하여 계산해 나간다.\n",
        "\n",
        " <br />\n",
        " <br />\n",
        "\n",
        "# 다시 한 번 말하지만 미분은 변화량을 나타내는 것이다.\n",
        "# 즉, W에 관해 미분한다고 하면 ouput에 대한 W의 영향력을 구하는 것이다.\n"
      ]
    },
    {
      "cell_type": "code",
      "metadata": {
        "id": "w10bidPlQN51",
        "colab_type": "code",
        "colab": {}
      },
      "source": [
        ""
      ],
      "execution_count": 0,
      "outputs": []
    }
  ]
}