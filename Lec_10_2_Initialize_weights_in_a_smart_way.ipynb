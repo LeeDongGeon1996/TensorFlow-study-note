{
  "nbformat": 4,
  "nbformat_minor": 0,
  "metadata": {
    "colab": {
      "name": "Lec_10-2: Initialize weights in a smart way.ipynb",
      "provenance": [],
      "authorship_tag": "ABX9TyN9N8awulmOCZN1Vrfc0MNX",
      "include_colab_link": true
    },
    "kernelspec": {
      "name": "python3",
      "display_name": "Python 3"
    }
  },
  "cells": [
    {
      "cell_type": "markdown",
      "metadata": {
        "id": "view-in-github",
        "colab_type": "text"
      },
      "source": [
        "<a href=\"https://colab.research.google.com/github/LeeDongGeon1996/TensorFlow-study-note/blob/master/Lec_10_2_Initialize_weights_in_a_smart_way.ipynb\" target=\"_parent\"><img src=\"https://colab.research.google.com/assets/colab-badge.svg\" alt=\"Open In Colab\"/></a>"
      ]
    },
    {
      "cell_type": "markdown",
      "metadata": {
        "id": "5LRrwMRrSW8s",
        "colab_type": "text"
      },
      "source": [
        "# Lec_10-2: Initialize weights in a smart way\n",
        "\n",
        " * `backpropagation`이 `deep network`에서 제대로 작동하지 않는 이유중하나가\n",
        " > initial weight 값을 적절한 값이 아닌 랜덤한 값을 주었기 때문이다.\n",
        "\n",
        "### RBM\n",
        "\n",
        " * weight 값을 초기화하는 방법.\n",
        " * 지금은 잘 사용되지 않는다.\n",
        " * 매우 복잡한 방식.\n",
        "\n",
        "### Xavier\n",
        " * input, ouput갯수에 비례하여 weight값을 주는 방식.\n",
        "\n",
        "\n",
        "### He \n",
        " * Xavier에 0.5를 곱한값을 weight로 준다.\n",
        "\n",
        "\n",
        " ##등등... 여러가지 많은 초기화 방법이 있다.\n",
        " \n"
      ]
    },
    {
      "cell_type": "code",
      "metadata": {
        "id": "KDuEaxuNSN9U",
        "colab_type": "code",
        "colab": {}
      },
      "source": [
        ""
      ],
      "execution_count": 0,
      "outputs": []
    }
  ]
}