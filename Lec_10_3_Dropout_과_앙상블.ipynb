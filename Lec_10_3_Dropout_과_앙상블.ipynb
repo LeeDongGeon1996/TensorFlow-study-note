{
  "nbformat": 4,
  "nbformat_minor": 0,
  "metadata": {
    "colab": {
      "name": "Lec_10_3: Dropout 과 앙상블.ipynb",
      "provenance": [],
      "authorship_tag": "ABX9TyNghCtH83vLw5nhu7PoAw3+",
      "include_colab_link": true
    },
    "kernelspec": {
      "name": "python3",
      "display_name": "Python 3"
    }
  },
  "cells": [
    {
      "cell_type": "markdown",
      "metadata": {
        "id": "view-in-github",
        "colab_type": "text"
      },
      "source": [
        "<a href=\"https://colab.research.google.com/github/LeeDongGeon1996/TensorFlow-study-note/blob/master/Lec_10_3_Dropout_%EA%B3%BC_%EC%95%99%EC%83%81%EB%B8%94.ipynb\" target=\"_parent\"><img src=\"https://colab.research.google.com/assets/colab-badge.svg\" alt=\"Open In Colab\"/></a>"
      ]
    },
    {
      "cell_type": "markdown",
      "metadata": {
        "id": "7GBLGqWtbu3O",
        "colab_type": "text"
      },
      "source": [
        "# Lec_10_3: Dropout 과 앙상블\n",
        "\n",
        "## Dropout\n",
        "* overfitting의 하나의 해결책.\n",
        "\n",
        "* `neural network`의 노드의 일부연결을 끊는 것.\n",
        " * 몇개의 노드를 죽이자. 랜덤하게.\n",
        "* 랜덤하게 training중에 노드를 제외시키고(쉬게하고) 트레이닝을 시키는 것이다.\n",
        "\n",
        "  ### 주의 할 점\n",
        "  > training중에만 `dropout`을 시키고 <br />\n",
        " 실제 output값을 예측할때, validation 이나 test를 할 때는 <br />\n",
        " 모든 node를 사용해야한다.\n",
        "\n",
        "\n",
        "\n",
        "## Ensemble\n",
        "\n",
        " * 같은 데이터에 대하여 여러 모델을 만든후 마지막에 합쳐서 output을 낸다.\n",
        " * 학습시킬 데이터가 많을 경우 유용할 수 있다.\n",
        " * 2~5% 정확도 향상 효과가 있다.\n",
        "\n",
        "\n",
        "\n",
        "\n",
        "\n"
      ]
    },
    {
      "cell_type": "code",
      "metadata": {
        "id": "ZqdBx8mFbpEi",
        "colab_type": "code",
        "colab": {}
      },
      "source": [
        ""
      ],
      "execution_count": 0,
      "outputs": []
    }
  ]
}