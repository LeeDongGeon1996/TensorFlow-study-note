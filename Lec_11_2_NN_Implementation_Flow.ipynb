{
  "nbformat": 4,
  "nbformat_minor": 0,
  "metadata": {
    "colab": {
      "name": "Lec_11_2: NN Implementation Flow.ipynb",
      "provenance": [],
      "collapsed_sections": [],
      "authorship_tag": "ABX9TyNE8Fo/FuFeDkyFe4K4wF04",
      "include_colab_link": true
    },
    "kernelspec": {
      "name": "python3",
      "display_name": "Python 3"
    }
  },
  "cells": [
    {
      "cell_type": "markdown",
      "metadata": {
        "id": "view-in-github",
        "colab_type": "text"
      },
      "source": [
        "<a href=\"https://colab.research.google.com/github/LeeDongGeon1996/TensorFlow-study-note/blob/master/Lec_11_2_NN_Implementation_Flow.ipynb\" target=\"_parent\"><img src=\"https://colab.research.google.com/assets/colab-badge.svg\" alt=\"Open In Colab\"/></a>"
      ]
    },
    {
      "cell_type": "markdown",
      "metadata": {
        "id": "Gsbaq1POLd5m",
        "colab_type": "text"
      },
      "source": [
        "# Lec_11_2: NN Implementation Flow\n",
        "\n",
        "#### 1. Set hyper parameters\n",
        " > learning rate, training epoch, batch size, etc\n",
        "\n",
        "#### 2. Make a data piplining\n",
        " > dataset을 로드하고 batch size만큼 데이터를 network에 input시킨다.\n",
        "\n",
        "#### 3. Build a neural network model\n",
        "> NN network model을 구성.\n",
        "\n",
        "#### 4. Define a loss function\n",
        "> ex) cross-entropy\n",
        "\n",
        "#### 5. Calculate a gradient\n",
        "> loss값을 weight값에 대해 미분\n",
        "\n",
        "#### 6. Select an optimizer\n",
        "> ex) Adam, SGD\n",
        "\n",
        "#### 7. Define a metric for model's performance\n",
        "> model의 성능을 측정, accuracy\n",
        " \n",
        "#### 8. (optional) Make a checkpoint for saving\n",
        "> 학습될 결과를 저장해놓으면 매번학습할 필요없이 inference만 하면 된다. \n",
        "\n",
        "#### 9. Train and Validate a neural network model\n",
        "> 앞선 과정에서 구현된 것을 바탕으로 training과 validation실행."
      ]
    },
    {
      "cell_type": "code",
      "metadata": {
        "id": "k2GyjYQ5LUlH",
        "colab_type": "code",
        "colab": {}
      },
      "source": [
        ""
      ],
      "execution_count": 0,
      "outputs": []
    }
  ]
}