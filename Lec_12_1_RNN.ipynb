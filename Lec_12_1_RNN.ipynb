{
  "nbformat": 4,
  "nbformat_minor": 0,
  "metadata": {
    "colab": {
      "name": "Lec_12_1_RNN.ipynb",
      "provenance": [],
      "collapsed_sections": [],
      "authorship_tag": "ABX9TyPYWEqD78Yr/y24rpZJHvTN",
      "include_colab_link": true
    },
    "kernelspec": {
      "name": "python3",
      "display_name": "Python 3"
    }
  },
  "cells": [
    {
      "cell_type": "markdown",
      "metadata": {
        "id": "view-in-github",
        "colab_type": "text"
      },
      "source": [
        "<a href=\"https://colab.research.google.com/github/LeeDongGeon1996/TensorFlow-study-note/blob/master/Lec_12_1_RNN.ipynb\" target=\"_parent\"><img src=\"https://colab.research.google.com/assets/colab-badge.svg\" alt=\"Open In Colab\"/></a>"
      ]
    },
    {
      "cell_type": "markdown",
      "metadata": {
        "id": "Y7q33X3O8a5U",
        "colab_type": "text"
      },
      "source": [
        "# Lec_12_1_RNN\n",
        "\n",
        " * sequence data\n",
        "  > 데이터의 순서가 하나의 중요한 요소인 데이터 집합.\n",
        "\n",
        " * RNN의 한계\n",
        "  * RNN 역시 layer가 깊어지면 학습하는데에 어려움이 있다.\n",
        "   > * LSTM - Long Short Term Memory\n",
        "   > * GRU\n",
        "\n",
        "   \n",
        " * RNN application\n",
        "  * Language model\n",
        "  * Speech recognition\n",
        "  * Machine translation\n",
        "  * Conversation modeling/Question answering\n",
        "  * Image/video captioning\n",
        "  * Image/Music/Dance generation\n",
        "   > 내가 Experiment6에서 MNIST data를 CNN만을 활용해서 새로 생성하려던 것이 불가능했었다. \n"
      ]
    },
    {
      "cell_type": "code",
      "metadata": {
        "id": "aONFtf5s8YZc",
        "colab_type": "code",
        "colab": {}
      },
      "source": [
        ""
      ],
      "execution_count": 0,
      "outputs": []
    }
  ]
}