{
  "nbformat": 4,
  "nbformat_minor": 0,
  "metadata": {
    "colab": {
      "name": "Lecture 1~3. Q-Learning.ipynb",
      "provenance": [],
      "collapsed_sections": [],
      "authorship_tag": "ABX9TyOSn9Gw4VC0DlgyezyIpyhy",
      "include_colab_link": true
    },
    "kernelspec": {
      "name": "python3",
      "display_name": "Python 3"
    }
  },
  "cells": [
    {
      "cell_type": "markdown",
      "metadata": {
        "id": "view-in-github",
        "colab_type": "text"
      },
      "source": [
        "<a href=\"https://colab.research.google.com/github/LeeDongGeon1996/TensorFlow-study-note/blob/master/RL/Lecture_1~3_Q_Learning.ipynb\" target=\"_parent\"><img src=\"https://colab.research.google.com/assets/colab-badge.svg\" alt=\"Open In Colab\"/></a>"
      ]
    },
    {
      "cell_type": "markdown",
      "metadata": {
        "id": "hJkBLJIq4wmW"
      },
      "source": [
        "# Lecture 1\n",
        "\n",
        "# Reinforcement learning\n",
        "\n",
        "* 어떤것을 훈련시킬 때 활용\n",
        "* 못하면 punishment..\n",
        "* 잘하면 상을 주는 방식으로...\n",
        "* \n",
        "\n",
        "#Lecture 2\n",
        "\n",
        "#Lecture 3\n",
        "[video](https://www.youtube.com/watch?v=Vd-gmo-qO5E&list=PLlMkM4tgfjnKsCWav-Z2F-MMFRx-2gMGG&index=4)\n",
        "\n",
        " * max = 최대값\n",
        " * argmax = 최대값을 가질때, 변수의 값.\n",
        "\n",
        "## Q-Learning\n",
        " * optimal policy를 따르는 알고리즘.\n",
        " * optimal q(max reward)가 q\\*이고 q'은 q*의 다음 상태 의 optimal q일때,\n",
        " * q\\*는 q\\*= reward + q'*이다\n",
        " * r(t) = rt + r(t+1)\n",
        "\n",
        "\n",
        "\n",
        "\n",
        "\n",
        "\n",
        "\n",
        "\n",
        "\n",
        "\n",
        "\n",
        "\n",
        "\n",
        "\n",
        "\n",
        "\n",
        "\n",
        "\n",
        "\n",
        "\n",
        "\n",
        "\n",
        "\n",
        "\n",
        "\n",
        "\n",
        "\n",
        "\n",
        "\n",
        "\n",
        "\n",
        "\n",
        "\n",
        "\n"
      ]
    },
    {
      "cell_type": "code",
      "metadata": {
        "id": "P76iI2ui4Rje"
      },
      "source": [
        "reinforcement learning"
      ],
      "execution_count": null,
      "outputs": []
    }
  ]
}