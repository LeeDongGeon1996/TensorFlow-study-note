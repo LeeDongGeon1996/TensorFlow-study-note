{
  "nbformat": 4,
  "nbformat_minor": 0,
  "metadata": {
    "colab": {
      "name": "Experiment_01_sigmoid_lengthen.ipynb",
      "provenance": [],
      "authorship_tag": "ABX9TyMZXfY8IvM4sqcS5uq/aDWV",
      "include_colab_link": true
    },
    "kernelspec": {
      "name": "python3",
      "display_name": "Python 3"
    }
  },
  "cells": [
    {
      "cell_type": "markdown",
      "metadata": {
        "id": "view-in-github",
        "colab_type": "text"
      },
      "source": [
        "<a href=\"https://colab.research.google.com/github/LeeDongGeon1996/TensorFlow/blob/master/study-note/my-practice/Experiment_01_sigmoid_lengthen.ipynb\" target=\"_parent\"><img src=\"https://colab.research.google.com/assets/colab-badge.svg\" alt=\"Open In Colab\"/></a>"
      ]
    },
    {
      "cell_type": "markdown",
      "metadata": {
        "id": "_6l7Knz6_AMc",
        "colab_type": "text"
      },
      "source": [
        "# Sigmoid에서 x의 계수를 바꾸는 실험.\n",
        "\n",
        "* 결론 : `Sigmoid`에서 $x$의 계수를 바꿔도 학습결과에는 큰 차이를 내지 못하였다."
      ]
    },
    {
      "cell_type": "code",
      "metadata": {
        "id": "Gq4d0HyrI5b-",
        "colab_type": "code",
        "colab": {
          "base_uri": "https://localhost:8080/",
          "height": 143
        },
        "outputId": "bceff05c-9544-437f-8840-77dcb4e1d356"
      },
      "source": [
        "%tensorflow_version 2.x\n",
        "\n",
        "import numpy as np\n",
        "import tensorflow as tf\n",
        "from google.colab import files\n",
        "!git clone https://github.com/LeeDongGeon1996/TensorFlow.git "
      ],
      "execution_count": 14,
      "outputs": [
        {
          "output_type": "stream",
          "text": [
            "Cloning into 'TensorFlow'...\n",
            "remote: Enumerating objects: 82, done.\u001b[K\n",
            "remote: Counting objects: 100% (82/82), done.\u001b[K\n",
            "remote: Compressing objects: 100% (76/76), done.\u001b[K\n",
            "remote: Total 1292 (delta 45), reused 3 (delta 2), pack-reused 1210\u001b[K\n",
            "Receiving objects: 100% (1292/1292), 1.86 MiB | 4.10 MiB/s, done.\n",
            "Resolving deltas: 100% (802/802), done.\n"
          ],
          "name": "stdout"
        }
      ]
    },
    {
      "cell_type": "code",
      "metadata": {
        "id": "OqPL8rzdJxjp",
        "colab_type": "code",
        "colab": {
          "base_uri": "https://localhost:8080/",
          "height": 73
        },
        "outputId": "2904a815-d865-4176-beda-35af7abffac9"
      },
      "source": [
        "!ls"
      ],
      "execution_count": 16,
      "outputs": [
        {
          "output_type": "stream",
          "text": [
            "Drive already mounted at /TensorFlow; to attempt to forcibly remount, call drive.mount(\"/TensorFlow\", force_remount=True).\n",
            "sample_data  TensorFlow\n"
          ],
          "name": "stdout"
        }
      ]
    },
    {
      "cell_type": "code",
      "metadata": {
        "id": "nmjVLfBmKuEi",
        "colab_type": "code",
        "colab": {}
      },
      "source": [
        "xy = np.loadtxt('./TensorFlow/data-03-diabetes.csv', delimiter=',', dtype=np.float32)"
      ],
      "execution_count": 0,
      "outputs": []
    },
    {
      "cell_type": "code",
      "metadata": {
        "id": "4sBwf3hTKz-C",
        "colab_type": "code",
        "colab": {}
      },
      "source": [
        "dataset = tf.data.Dataset.from_tensor_slices((x,y)).batch(len(x))\n",
        "\n"
      ],
      "execution_count": 0,
      "outputs": []
    },
    {
      "cell_type": "code",
      "metadata": {
        "id": "8zgPfXXwQV96",
        "colab_type": "code",
        "colab": {
          "base_uri": "https://localhost:8080/",
          "height": 199
        },
        "outputId": "098c55e3-8bbe-4028-c978-27b7fe880127"
      },
      "source": [
        "tf.random.set_seed(777)\n",
        "W = tf.Variable(tf.random.normal((8, 1)), name='weight')\n",
        "b = tf.Variable(tf.random.normal((1,)), name='bias')\n",
        "print([W,b])"
      ],
      "execution_count": 113,
      "outputs": [
        {
          "output_type": "stream",
          "text": [
            "[<tf.Variable 'weight:0' shape=(8, 1) dtype=float32, numpy=\n",
            "array([[ 0.7706481 ],\n",
            "       [ 0.37335402],\n",
            "       [-0.05576323],\n",
            "       [ 0.00358377],\n",
            "       [-0.5898363 ],\n",
            "       [ 1.5702795 ],\n",
            "       [ 0.2460895 ],\n",
            "       [-0.09918973]], dtype=float32)>, <tf.Variable 'bias:0' shape=(1,) dtype=float32, numpy=array([-1.3080608], dtype=float32)>]\n"
          ],
          "name": "stdout"
        }
      ]
    },
    {
      "cell_type": "code",
      "metadata": {
        "id": "ZEyo8JAzM7X6",
        "colab_type": "code",
        "colab": {
          "base_uri": "https://localhost:8080/",
          "height": 35
        },
        "outputId": "5c389dfc-7b80-4ed2-f070-0e082ff8a806"
      },
      "source": [
        "x = xy[:, 0:-1]\n",
        "y = xy[:, -1]\n",
        "\n",
        "print(x.shape, y.shape)"
      ],
      "execution_count": 77,
      "outputs": [
        {
          "output_type": "stream",
          "text": [
            "(759, 8) (759,)\n"
          ],
          "name": "stdout"
        }
      ]
    },
    {
      "cell_type": "code",
      "metadata": {
        "id": "qJ5um5ZTNMx5",
        "colab_type": "code",
        "colab": {
          "base_uri": "https://localhost:8080/",
          "height": 575
        },
        "outputId": "911fca2c-5887-451e-df8b-3cf23f5eda84"
      },
      "source": [
        "dataset = tf.data.Dataset.from_tensor_slices((x,y)).batch(len(x))\n",
        "W = tf.Variable(tf.random.normal((8, 1)), name='weight')\n",
        "b = tf.Variable(tf.random.normal((1,)), name='bias')\n",
        "\n",
        "def logistic_regression(features):\n",
        "    hypothesis = tf.sigmoid(tf.matmul(features, W) + b)\n",
        "    # hypothesis  = tf.divide(1., 1. + tf.exp(tf.multiply(tf.matmul(features, W) + b, -0.5)))\n",
        "    return hypothesis\n",
        "\n",
        "def loss_fn(hypothesis, features, labels):\n",
        "    cost = -tf.reduce_mean(labels * tf.math.log(logistic_regression(features)) + (1 - labels) * tf.math.log(1 - hypothesis))\n",
        "    return cost\n",
        "\n",
        "optimizer = tf.keras.optimizers.SGD(learning_rate=0.01)\n",
        "\n",
        "def accuracy_fn(hypothesis, labels):\n",
        "    predicted = tf.cast(hypothesis > 0.5, dtype=tf.float32)\n",
        "    accuracy = tf.reduce_mean(tf.cast(tf.equal(predicted, labels), dtype=tf.int32))\n",
        "    return accuracy\n",
        "\n",
        "def grad(hypothesis, features, labels):\n",
        "    with tf.GradientTape() as tape:\n",
        "        loss_value = loss_fn(logistic_regression(features),features,labels)\n",
        "    return tape.gradient(loss_value, [W,b])\n",
        "\n",
        "EPOCHS = 3000\n",
        "for step in range(EPOCHS):\n",
        "    for features, labels  in iter(dataset):\n",
        "        grads = grad(logistic_regression(features), features, labels)\n",
        "        optimizer.apply_gradients(grads_and_vars=zip(grads,[W,b]))\n",
        "        if step % 100 == 0:\n",
        "            print(\"Iter: {}, Loss: {:.4f}\".format(step, loss_fn(logistic_regression(features),features,labels)))\n",
        "\n",
        "for features, labels  in iter(dataset):\n",
        "    print(accuracy_fn(logistic_regression(features),labels))"
      ],
      "execution_count": 114,
      "outputs": [
        {
          "output_type": "stream",
          "text": [
            "Iter: 0, Loss: 0.7920\n",
            "Iter: 100, Loss: 0.7497\n",
            "Iter: 200, Loss: 0.7262\n",
            "Iter: 300, Loss: 0.7132\n",
            "Iter: 400, Loss: 0.7056\n",
            "Iter: 500, Loss: 0.7006\n",
            "Iter: 600, Loss: 0.6968\n",
            "Iter: 700, Loss: 0.6937\n",
            "Iter: 800, Loss: 0.6909\n",
            "Iter: 900, Loss: 0.6884\n",
            "Iter: 1000, Loss: 0.6861\n",
            "Iter: 1100, Loss: 0.6839\n",
            "Iter: 1200, Loss: 0.6819\n",
            "Iter: 1300, Loss: 0.6800\n",
            "Iter: 1400, Loss: 0.6782\n",
            "Iter: 1500, Loss: 0.6765\n",
            "Iter: 1600, Loss: 0.6750\n",
            "Iter: 1700, Loss: 0.6735\n",
            "Iter: 1800, Loss: 0.6722\n",
            "Iter: 1900, Loss: 0.6709\n",
            "Iter: 2000, Loss: 0.6697\n",
            "Iter: 2100, Loss: 0.6686\n",
            "Iter: 2200, Loss: 0.6675\n",
            "Iter: 2300, Loss: 0.6666\n",
            "Iter: 2400, Loss: 0.6656\n",
            "Iter: 2500, Loss: 0.6648\n",
            "Iter: 2600, Loss: 0.6640\n",
            "Iter: 2700, Loss: 0.6632\n",
            "Iter: 2800, Loss: 0.6625\n",
            "Iter: 2900, Loss: 0.6618\n",
            "tf.Tensor(0, shape=(), dtype=int32)\n"
          ],
          "name": "stdout"
        }
      ]
    },
    {
      "cell_type": "markdown",
      "metadata": {
        "id": "_mKcRtY2-PMm",
        "colab_type": "text"
      },
      "source": [
        ""
      ]
    },
    {
      "cell_type": "code",
      "metadata": {
        "id": "CD46TDDoN48h",
        "colab_type": "code",
        "colab": {}
      },
      "source": [
        ")"
      ],
      "execution_count": 0,
      "outputs": []
    }
  ]
}