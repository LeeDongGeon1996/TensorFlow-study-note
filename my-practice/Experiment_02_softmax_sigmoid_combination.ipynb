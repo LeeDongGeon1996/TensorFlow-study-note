{
  "nbformat": 4,
  "nbformat_minor": 0,
  "metadata": {
    "colab": {
      "name": "Experiment_02_softmax_sigmoid_combination.ipynb",
      "provenance": [],
      "authorship_tag": "ABX9TyPL6/6TLLAfbcERKqPF6j5p",
      "include_colab_link": true
    },
    "kernelspec": {
      "name": "python3",
      "display_name": "Python 3"
    }
  },
  "cells": [
    {
      "cell_type": "markdown",
      "metadata": {
        "id": "view-in-github",
        "colab_type": "text"
      },
      "source": [
        "<a href=\"https://colab.research.google.com/github/LeeDongGeon1996/TensorFlow/blob/master/study-note/my-practice/Experiment_02_softmax_sigmoid_combination.ipynb\" target=\"_parent\"><img src=\"https://colab.research.google.com/assets/colab-badge.svg\" alt=\"Open In Colab\"/></a>"
      ]
    },
    {
      "cell_type": "markdown",
      "metadata": {
        "id": "PmJl5b3sXMdS",
        "colab_type": "text"
      },
      "source": [
        "# What if I combine Sigmoid and Softmax as a classifier?\n",
        "\n",
        "## conclusion\n",
        "* Only softmax\n",
        ">time : 23.218883275985718<br />\n",
        "loss : 0.005116\n",
        "\n",
        "* softmax(sigmoid) or sigmoid(softmax)\n",
        "> time : 23.29451632499695<br />\n",
        "loss : 0.842971\n",
        "\n",
        "### softmax를 쓰는 학습효과가 없었다.\n"
      ]
    },
    {
      "cell_type": "code",
      "metadata": {
        "id": "qKi4G8VxW5m1",
        "colab_type": "code",
        "colab": {}
      },
      "source": [
        "%tensorflow_version 2.x\n",
        "\n",
        "import tensorflow as tf\n",
        "import numpy as np\n",
        "\n",
        "# 8 instances, 4 features\n",
        "x_data = [[1, 2, 1, 1],\n",
        "          [2, 1, 3, 2],\n",
        "          [3, 1, 3, 4],\n",
        "          [4, 1, 5, 5],\n",
        "          [1, 7, 5, 5],\n",
        "          [1, 2, 5, 6],\n",
        "          [1, 6, 6, 6],\n",
        "          [1, 7, 7, 7]]\n",
        "y_data = [[0, 0, 1],\n",
        "          [0, 0, 1],\n",
        "          [0, 0, 1],\n",
        "          [0, 1, 0],\n",
        "          [0, 1, 0],\n",
        "          [0, 1, 0],\n",
        "          [1, 0, 0],\n",
        "          [1, 0, 0]]\n",
        "\n",
        "x_data = np.asarray(x_data, dtype=np.float32)\n",
        "y_data = np.asarray(y_data, dtype=np.float32)\n",
        "\n",
        "nb_features = 4\n",
        "nb_classes = 3"
      ],
      "execution_count": 0,
      "outputs": []
    },
    {
      "cell_type": "code",
      "metadata": {
        "id": "FzEmciIMXFvr",
        "colab_type": "code",
        "colab": {
          "base_uri": "https://localhost:8080/",
          "height": 34
        },
        "outputId": "d761fc56-d864-44a6-ab88-def7336334dd"
      },
      "source": [
        "combine = False\n",
        "\n",
        "def softmax_classifier(features):\n",
        "  if combine:\n",
        "    return tf.sigmoid(tf.nn.softmax(tf.matmul(features,W) + b)) \n",
        "  return tf.nn.softmax(tf.matmul(features,W) + b)\n",
        "\n",
        "sampled_data = np.asarray([[548,86,1,1235]], dtype = np.float32)\n",
        "print(softmax_classifier(sampled_data))\n",
        "\n",
        "def get_cost(features, labels):\n",
        "  return tf.reduce_mean(-tf.reduce_sum(tf.multiply(labels, tf.math.log(softmax_classifier(features))), axis=1))\n",
        "\n",
        "optimizer = tf.keras.optimizers.SGD(learning_rate=0.5)\n",
        "\n",
        "def calc_grad(features, labels):\n",
        "  with tf.GradientTape() as g:\n",
        "    cost = get_cost(features, labels)\n",
        "    grads = g.gradient(cost, [W,b])\n",
        "    #print(\"grads : \" + str(grads))\n",
        "  return grads\n",
        "\n",
        "def fit(features, labels,epochs=4000, verbose=100):\n",
        "  for i in range(epochs):\n",
        "    grad = calc_grad(features, labels)\n",
        "    optimizer.apply_gradients(zip(grad, [W,b]))\n",
        "    if (i==0) | ((i+1)%verbose==0):\n",
        "            print('Loss at epoch %d: %f' %(i+1, get_cost(features, labels).numpy()))\n",
        "            "
      ],
      "execution_count": 23,
      "outputs": [
        {
          "output_type": "stream",
          "text": [
            "tf.Tensor([[0. 1. 0.]], shape=(1, 3), dtype=float32)\n"
          ],
          "name": "stdout"
        }
      ]
    },
    {
      "cell_type": "code",
      "metadata": {
        "id": "jnZYJrIuXjds",
        "colab_type": "code",
        "colab": {
          "base_uri": "https://localhost:8080/",
          "height": 1000
        },
        "outputId": "9ea09c77-96ec-4c5a-e632-fbed8a2331aa"
      },
      "source": [
        "import time\n",
        "combine = True\n",
        "start = time.time()\n",
        "for i in range(3):\n",
        "  tf.random.set_seed(777)\n",
        "  W = tf.Variable(tf.random.normal([nb_features, nb_classes], dtype = tf.float32, name=\"Weight\"))\n",
        "  b = tf.Variable(tf.random.normal([nb_classes], dtype = tf.float32, name=\"Bias\"))    \n",
        "  fit(x_data, y_data)\n",
        "print(\"time :\", time.time() - start)\n"
      ],
      "execution_count": 24,
      "outputs": [
        {
          "output_type": "stream",
          "text": [
            "Loss at epoch 1: 0.567744\n",
            "Loss at epoch 100: 0.551244\n",
            "Loss at epoch 200: 0.550982\n",
            "Loss at epoch 300: 0.550894\n",
            "Loss at epoch 400: 0.550850\n",
            "Loss at epoch 500: 0.550822\n",
            "Loss at epoch 600: 0.550804\n",
            "Loss at epoch 700: 0.550790\n",
            "Loss at epoch 800: 0.550780\n",
            "Loss at epoch 900: 0.550771\n",
            "Loss at epoch 1000: 0.550765\n",
            "Loss at epoch 1100: 0.550759\n",
            "Loss at epoch 1200: 0.550754\n",
            "Loss at epoch 1300: 0.550750\n",
            "Loss at epoch 1400: 0.550747\n",
            "Loss at epoch 1500: 0.550744\n",
            "Loss at epoch 1600: 0.550741\n",
            "Loss at epoch 1700: 0.550739\n",
            "Loss at epoch 1800: 0.550736\n",
            "Loss at epoch 1900: 0.550734\n",
            "Loss at epoch 2000: 0.550733\n",
            "Loss at epoch 2100: 0.550731\n",
            "Loss at epoch 2200: 0.550730\n",
            "Loss at epoch 2300: 0.550728\n",
            "Loss at epoch 2400: 0.550727\n",
            "Loss at epoch 2500: 0.550726\n",
            "Loss at epoch 2600: 0.550725\n",
            "Loss at epoch 2700: 0.550724\n",
            "Loss at epoch 2800: 0.550723\n",
            "Loss at epoch 2900: 0.550722\n",
            "Loss at epoch 3000: 0.550721\n",
            "Loss at epoch 3100: 0.550720\n",
            "Loss at epoch 3200: 0.550719\n",
            "Loss at epoch 3300: 0.550719\n",
            "Loss at epoch 3400: 0.550718\n",
            "Loss at epoch 3500: 0.550717\n",
            "Loss at epoch 3600: 0.550717\n",
            "Loss at epoch 3700: 0.550716\n",
            "Loss at epoch 3800: 0.550715\n",
            "Loss at epoch 3900: 0.550715\n",
            "Loss at epoch 4000: 0.550714\n",
            "Loss at epoch 1: 0.567744\n",
            "Loss at epoch 100: 0.551244\n",
            "Loss at epoch 200: 0.550982\n",
            "Loss at epoch 300: 0.550894\n",
            "Loss at epoch 400: 0.550850\n",
            "Loss at epoch 500: 0.550822\n",
            "Loss at epoch 600: 0.550804\n",
            "Loss at epoch 700: 0.550790\n",
            "Loss at epoch 800: 0.550780\n",
            "Loss at epoch 900: 0.550771\n",
            "Loss at epoch 1000: 0.550765\n",
            "Loss at epoch 1100: 0.550759\n",
            "Loss at epoch 1200: 0.550754\n",
            "Loss at epoch 1300: 0.550750\n",
            "Loss at epoch 1400: 0.550747\n",
            "Loss at epoch 1500: 0.550744\n",
            "Loss at epoch 1600: 0.550741\n",
            "Loss at epoch 1700: 0.550739\n",
            "Loss at epoch 1800: 0.550736\n",
            "Loss at epoch 1900: 0.550734\n",
            "Loss at epoch 2000: 0.550733\n",
            "Loss at epoch 2100: 0.550731\n",
            "Loss at epoch 2200: 0.550730\n",
            "Loss at epoch 2300: 0.550728\n",
            "Loss at epoch 2400: 0.550727\n",
            "Loss at epoch 2500: 0.550726\n",
            "Loss at epoch 2600: 0.550725\n",
            "Loss at epoch 2700: 0.550724\n",
            "Loss at epoch 2800: 0.550723\n",
            "Loss at epoch 2900: 0.550722\n",
            "Loss at epoch 3000: 0.550721\n",
            "Loss at epoch 3100: 0.550720\n",
            "Loss at epoch 3200: 0.550719\n",
            "Loss at epoch 3300: 0.550719\n",
            "Loss at epoch 3400: 0.550718\n",
            "Loss at epoch 3500: 0.550717\n",
            "Loss at epoch 3600: 0.550717\n",
            "Loss at epoch 3700: 0.550716\n",
            "Loss at epoch 3800: 0.550715\n",
            "Loss at epoch 3900: 0.550715\n",
            "Loss at epoch 4000: 0.550714\n",
            "Loss at epoch 1: 0.567744\n",
            "Loss at epoch 100: 0.551244\n",
            "Loss at epoch 200: 0.550982\n",
            "Loss at epoch 300: 0.550894\n",
            "Loss at epoch 400: 0.550850\n",
            "Loss at epoch 500: 0.550822\n",
            "Loss at epoch 600: 0.550804\n",
            "Loss at epoch 700: 0.550790\n",
            "Loss at epoch 800: 0.550780\n",
            "Loss at epoch 900: 0.550771\n",
            "Loss at epoch 1000: 0.550765\n",
            "Loss at epoch 1100: 0.550759\n",
            "Loss at epoch 1200: 0.550754\n",
            "Loss at epoch 1300: 0.550750\n",
            "Loss at epoch 1400: 0.550747\n",
            "Loss at epoch 1500: 0.550744\n",
            "Loss at epoch 1600: 0.550741\n",
            "Loss at epoch 1700: 0.550739\n",
            "Loss at epoch 1800: 0.550736\n",
            "Loss at epoch 1900: 0.550734\n",
            "Loss at epoch 2000: 0.550733\n",
            "Loss at epoch 2100: 0.550731\n",
            "Loss at epoch 2200: 0.550730\n",
            "Loss at epoch 2300: 0.550728\n",
            "Loss at epoch 2400: 0.550727\n",
            "Loss at epoch 2500: 0.550726\n",
            "Loss at epoch 2600: 0.550725\n",
            "Loss at epoch 2700: 0.550724\n",
            "Loss at epoch 2800: 0.550723\n",
            "Loss at epoch 2900: 0.550722\n",
            "Loss at epoch 3000: 0.550721\n",
            "Loss at epoch 3100: 0.550720\n",
            "Loss at epoch 3200: 0.550719\n",
            "Loss at epoch 3300: 0.550719\n",
            "Loss at epoch 3400: 0.550718\n",
            "Loss at epoch 3500: 0.550717\n",
            "Loss at epoch 3600: 0.550717\n",
            "Loss at epoch 3700: 0.550716\n",
            "Loss at epoch 3800: 0.550715\n",
            "Loss at epoch 3900: 0.550715\n",
            "Loss at epoch 4000: 0.550714\n",
            "time : 22.951855421066284\n"
          ],
          "name": "stdout"
        }
      ]
    },
    {
      "cell_type": "code",
      "metadata": {
        "id": "f8OtKSCgY6Xw",
        "colab_type": "code",
        "colab": {}
      },
      "source": [
        ""
      ],
      "execution_count": 0,
      "outputs": []
    }
  ]
}