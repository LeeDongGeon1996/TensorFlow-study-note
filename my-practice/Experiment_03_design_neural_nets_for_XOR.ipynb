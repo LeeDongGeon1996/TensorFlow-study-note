{
  "nbformat": 4,
  "nbformat_minor": 0,
  "metadata": {
    "colab": {
      "name": "Experiment_03_design neural nets for XOR.ipynb",
      "provenance": [],
      "authorship_tag": "ABX9TyM+9o7jS84g6A+b9niGZqq0",
      "include_colab_link": true
    },
    "kernelspec": {
      "name": "python3",
      "display_name": "Python 3"
    }
  },
  "cells": [
    {
      "cell_type": "markdown",
      "metadata": {
        "id": "view-in-github",
        "colab_type": "text"
      },
      "source": [
        "<a href=\"https://colab.research.google.com/github/LeeDongGeon1996/TensorFlow-study-note/blob/master/my-practice/Experiment_03_design_neural_nets_for_XOR.ipynb\" target=\"_parent\"><img src=\"https://colab.research.google.com/assets/colab-badge.svg\" alt=\"Open In Colab\"/></a>"
      ]
    },
    {
      "cell_type": "markdown",
      "metadata": {
        "id": "bFgOpU5VMK87",
        "colab_type": "text"
      },
      "source": [
        "# Experiment_03_design neural nets for XOR\n",
        "\n",
        "###Conclusion\n",
        "> The Code 1 was faster 1.2times then Code 2.<br />\n",
        "I think this is unignorable. 1.2times faster can cause 1hour-diffrence.\n",
        "\n",
        "\n",
        "* Code 1\n",
        "> This code combines two nodes without Tensorflow func.\n",
        "With modifying logit variables.\n",
        "\n",
        "\n",
        "```\n",
        "# the shape of b_input must be (1, number of nodes combined) \n",
        "\n",
        "def hypothesis(features):\n",
        "  input_layer_logit = tf.matmul(features, W_input) + b_input\n",
        "  input_layer = tf.sigmoid(input_layer_logit)\n",
        "  output_layer_logit = tf.matmul(input_layer, W_output) + b_output\n",
        "  output_layer = tf.sigmoid(output_layer_logit)\n",
        "\n",
        "  return output_layer\n",
        "```\n",
        "\n",
        "<br/>\n",
        "<br/>\n",
        "\n",
        " * Code 2\n",
        "  > This code uses Tensorflow function when combining two nodes. \n",
        "\n",
        "```\n",
        "def neural_net(features):\n",
        "    layer1 = tf.sigmoid(tf.matmul(features, W1) + b1)\n",
        "    layer2 = tf.sigmoid(tf.matmul(features, W2) + b2)\n",
        "    layer3 = tf.concat([layer1, layer2],-1)\n",
        "    layer3 = tf.reshape(layer3, shape = [-1,2])\n",
        "    hypothesis = tf.sigmoid(tf.matmul(layer3, W3) + b3)\n",
        "    return hypothesis\n",
        "\n",
        "```"
      ]
    },
    {
      "cell_type": "code",
      "metadata": {
        "id": "uhmEotygLt-d",
        "colab_type": "code",
        "colab": {}
      },
      "source": [
        ""
      ],
      "execution_count": 0,
      "outputs": []
    }
  ]
}