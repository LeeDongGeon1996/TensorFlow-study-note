{
  "nbformat": 4,
  "nbformat_minor": 0,
  "metadata": {
    "colab": {
      "name": "Experiment_04_ReLU with zero weight.ipynb",
      "provenance": [],
      "authorship_tag": "ABX9TyPobdZNl+ye+awnzTAdBQCj",
      "include_colab_link": true
    },
    "kernelspec": {
      "name": "python3",
      "display_name": "Python 3"
    }
  },
  "cells": [
    {
      "cell_type": "markdown",
      "metadata": {
        "id": "view-in-github",
        "colab_type": "text"
      },
      "source": [
        "<a href=\"https://colab.research.google.com/github/LeeDongGeon1996/TensorFlow-study-note/blob/master/my-practice/Experiment_04_ReLU_with_zero_weight.ipynb\" target=\"_parent\"><img src=\"https://colab.research.google.com/assets/colab-badge.svg\" alt=\"Open In Colab\"/></a>"
      ]
    },
    {
      "cell_type": "markdown",
      "metadata": {
        "id": "ZuSK9fwFf3Em",
        "colab_type": "text"
      },
      "source": [
        "# Experiment_04_ReLU with zero weight\n",
        "\n",
        " * Conclusion\n",
        " > cannot process learning with zero-weght.\n",
        "\n",
        " ```\n",
        "Epoch : 0, Loss : 1.022075\n",
        "Epoch : 1000, Loss : 0.693167\n",
        "Epoch : 2000, Loss : 0.693147\n",
        "Epoch : 3000, Loss : 0.693147\n",
        "Epoch : 4000, Loss : 0.693147\n",
        "Epoch : 5000, Loss : 0.693147\n",
        "Epoch : 6000, Loss : 0.693147\n",
        "Epoch : 7000, Loss : 0.693147\n",
        "Epoch : 8000, Loss : 0.693147\n",
        " ``` "
      ]
    },
    {
      "cell_type": "code",
      "metadata": {
        "id": "Tm0XL5IVRV39",
        "colab_type": "code",
        "colab": {
          "base_uri": "https://localhost:8080/",
          "height": 297
        },
        "outputId": "d3f8432a-5daa-4940-c2c8-3b9f84343f17"
      },
      "source": [
        "%tensorflow_version 2.x\n",
        "import numpy as np\n",
        "import matplotlib.pyplot as plt\n",
        "%matplotlib inline\n",
        "import tensorflow as tf\n",
        "import time\n",
        "\n",
        "print(tf.__version__)\n",
        "x_data = [[0, 0],\n",
        "          [0, 1],\n",
        "          [1, 0],\n",
        "          [1, 1]]\n",
        "y_data = [[0],\n",
        "          [1],\n",
        "          [1],\n",
        "          [0]]\n",
        "\n",
        "plt.scatter(x_data[0][0],x_data[0][1], c='red' , marker='^')\n",
        "plt.scatter(x_data[3][0],x_data[3][1], c='red' , marker='^')\n",
        "plt.scatter(x_data[1][0],x_data[1][1], c='blue' , marker='^')\n",
        "plt.scatter(x_data[2][0],x_data[2][1], c='blue' , marker='^')\n",
        "\n",
        "plt.xlabel(\"x1\")\n",
        "plt.ylabel(\"x2\")\n",
        "plt.show()\n",
        "\n",
        "def preprocess_data(features, labels):\n",
        "    features = tf.cast(features, tf.float32)\n",
        "    labels = tf.cast(labels, tf.float32)\n",
        "    return features, labels"
      ],
      "execution_count": 37,
      "outputs": [
        {
          "output_type": "stream",
          "text": [
            "2.1.0\n"
          ],
          "name": "stdout"
        },
        {
          "output_type": "display_data",
          "data": {
            "image/png": "[encoded data removed]",
            "text/plain": [
              "<Figure size 432x288 with 1 Axes>"
            ]
          },
          "metadata": {
            "tags": []
          }
        }
      ]
    },
    {
      "cell_type": "code",
      "metadata": {
        "id": "wRQ1fsOzRZwp",
        "colab_type": "code",
        "colab": {}
      },
      "source": [
        "tf.random.set_seed(777)  # for reproducibility\n",
        "\n",
        "#w_layer1 = tf.Variable(tf.zeros([2,2], dtype=tf.float32))\n",
        "#b_layer1 = tf.Variable(tf.zeros([1,2], dtype=tf.float32))\n",
        "\n",
        "\n",
        "w_layer1 = tf.Variable(tf.random.normal([2,2], dtype=tf.float32))\n",
        "b_layer1 = tf.Variable(tf.random.normal([1,2], dtype=tf.float32))\n",
        "w_layer2 = tf.Variable(tf.random.normal([2,2], dtype=tf.float32))\n",
        "b_layer2 = tf.Variable(tf.random.normal([1,2], dtype=tf.float32))\n",
        "\n",
        "w_output = tf.Variable(tf.random.normal([2,1], dtype=tf.float32))\n",
        "b_output = tf.Variable(tf.random.normal([1,], dtype=tf.float32))\n",
        "\n",
        "\n",
        "\n",
        "def hypothesis(features):\n",
        "  layer1 = tf.nn.sigmoid(tf.matmul(features, w_layer1) + b_layer1)\n",
        "  layer2 = tf.nn.relu(tf.matmul(layer1, w_layer2) + b_layer2)\n",
        "  output_layer = tf.nn.sigmoid(tf.matmul(layer2, w_output) + b_output)\n",
        "\n",
        "  return output_layer\n",
        "\n",
        "def get_cost(features, labels):\n",
        "  output = hypothesis(features)\n",
        "  cost = labels * tf.math.log(output) + (1-labels) * tf.math.log(1-output)\n",
        "  mean_cost = -tf.reduce_mean(cost)\n",
        "\n",
        "  return mean_cost\n",
        "\n",
        "def get_accuracy(features, labels):\n",
        "  output = hypothesis(features)\n",
        "  output = tf.cast(output > 0.5, dtype=tf.float32)\n",
        "  accuracy = tf.reduce_mean(tf.cast(tf.equal(output,labels), dtype=tf.float32))\n",
        "  \n",
        "  return accuracy\n",
        "\n",
        "def fit(dataset, epoch=50000, verbose=1000):\n",
        "  for i in range(epoch):\n",
        "    for features, labels in dataset:    \n",
        "      with tf.GradientTape() as g:\n",
        "        cost = get_cost(features, labels)\n",
        "        grads = g.gradient(cost, [w_layer1, w_output, b_layer1, b_output])\n",
        "        optimizer.apply_gradients(grads_and_vars = zip(grads, [w_layer1, w_output, b_layer1, b_output]))\n",
        "\n",
        "      if((i % verbose) == 0):\n",
        "        print(\"Epoch : {}, Loss : {:.6f}\".format(i, cost))\n"
      ],
      "execution_count": 0,
      "outputs": []
    },
    {
      "cell_type": "code",
      "metadata": {
        "id": "KhaFHFe8SEcn",
        "colab_type": "code",
        "colab": {
          "base_uri": "https://localhost:8080/",
          "height": 914
        },
        "outputId": "db8c1d6f-af8c-4c1e-fd6a-a99738d9842c"
      },
      "source": [
        "optimizer = tf.keras.optimizers.SGD(learning_rate=0.02)\n",
        "x, y = preprocess_data(x_data, y_data)\n",
        "dataset = tf.data.Dataset.from_tensor_slices((x, y)).batch(len(x_data))\n",
        "fit(dataset)\n",
        "\n",
        "test_acc = get_accuracy(x, y)\n",
        "print('test accr : {}'.format(test_acc))\n"
      ],
      "execution_count": 39,
      "outputs": [
        {
          "output_type": "stream",
          "text": [
            "Epoch : 0, Loss : 0.950134\n",
            "Epoch : 1000, Loss : 0.519776\n",
            "Epoch : 2000, Loss : 0.506147\n",
            "Epoch : 3000, Loss : 0.498170\n",
            "Epoch : 4000, Loss : 0.492926\n",
            "Epoch : 5000, Loss : 0.489825\n",
            "Epoch : 6000, Loss : 0.487855\n",
            "Epoch : 7000, Loss : 0.486414\n",
            "Epoch : 8000, Loss : 0.485317\n",
            "Epoch : 9000, Loss : 0.484455\n",
            "Epoch : 10000, Loss : 0.483760\n",
            "Epoch : 11000, Loss : 0.483188\n",
            "Epoch : 12000, Loss : 0.482709\n",
            "Epoch : 13000, Loss : 0.482302\n",
            "Epoch : 14000, Loss : 0.481953\n",
            "Epoch : 15000, Loss : 0.481649\n",
            "Epoch : 16000, Loss : 0.481384\n",
            "Epoch : 17000, Loss : 0.481149\n",
            "Epoch : 18000, Loss : 0.480940\n",
            "Epoch : 19000, Loss : 0.480753\n",
            "Epoch : 20000, Loss : 0.480584\n",
            "Epoch : 21000, Loss : 0.480432\n",
            "Epoch : 22000, Loss : 0.480293\n",
            "Epoch : 23000, Loss : 0.480166\n",
            "Epoch : 24000, Loss : 0.480050\n",
            "Epoch : 25000, Loss : 0.479943\n",
            "Epoch : 26000, Loss : 0.479844\n",
            "Epoch : 27000, Loss : 0.479753\n",
            "Epoch : 28000, Loss : 0.479668\n",
            "Epoch : 29000, Loss : 0.479589\n",
            "Epoch : 30000, Loss : 0.479515\n",
            "Epoch : 31000, Loss : 0.479446\n",
            "Epoch : 32000, Loss : 0.479382\n",
            "Epoch : 33000, Loss : 0.479321\n",
            "Epoch : 34000, Loss : 0.479264\n",
            "Epoch : 35000, Loss : 0.479210\n",
            "Epoch : 36000, Loss : 0.479159\n",
            "Epoch : 37000, Loss : 0.479111\n",
            "Epoch : 38000, Loss : 0.479065\n",
            "Epoch : 39000, Loss : 0.479022\n",
            "Epoch : 40000, Loss : 0.478981\n",
            "Epoch : 41000, Loss : 0.478942\n",
            "Epoch : 42000, Loss : 0.478905\n",
            "Epoch : 43000, Loss : 0.478869\n",
            "Epoch : 44000, Loss : 0.478835\n",
            "Epoch : 45000, Loss : 0.478803\n",
            "Epoch : 46000, Loss : 0.478772\n",
            "Epoch : 47000, Loss : 0.478742\n",
            "Epoch : 48000, Loss : 0.478714\n",
            "Epoch : 49000, Loss : 0.478687\n",
            "test accr : 0.75\n"
          ],
          "name": "stdout"
        }
      ]
    },
    {
      "cell_type": "code",
      "metadata": {
        "id": "EUGkKmSQV77q",
        "colab_type": "code",
        "colab": {}
      },
      "source": [
        ""
      ],
      "execution_count": 0,
      "outputs": []
    }
  ]
}