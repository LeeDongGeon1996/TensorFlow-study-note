{
  "nbformat": 4,
  "nbformat_minor": 0,
  "metadata": {
    "kernelspec": {
      "display_name": "Python 3",
      "language": "python",
      "name": "python3"
    },
    "language_info": {
      "codemirror_mode": {
        "name": "ipython",
        "version": 3
      },
      "file_extension": ".py",
      "mimetype": "text/x-python",
      "name": "python",
      "nbconvert_exporter": "python",
      "pygments_lexer": "ipython3",
      "version": "3.7.6"
    },
    "colab": {
      "name": "Experiment_06_Create \"NEW MNIST\" data using the model trained by MNIST.ipynb",
      "provenance": [],
      "collapsed_sections": [],
      "include_colab_link": true
    }
  },
  "cells": [
    {
      "cell_type": "markdown",
      "metadata": {
        "id": "view-in-github",
        "colab_type": "text"
      },
      "source": [
        "<a href=\"https://colab.research.google.com/github/LeeDongGeon1996/TensorFlow-study-note/blob/master/my-practice/Experiment_06_Create_%22NEW_MNIST%22_data_using_the_model_trained_by_MNIST.ipynb\" target=\"_parent\"><img src=\"https://colab.research.google.com/assets/colab-badge.svg\" alt=\"Open In Colab\"/></a>"
      ]
    },
    {
      "cell_type": "markdown",
      "metadata": {
        "id": "JDjkHxUg7sJQ",
        "colab_type": "text"
      },
      "source": [
        "# Experiment_06_Create \"NEW MNIST\" data using the model trained by MNIST\n",
        "\n",
        "> ## conclustion\n",
        " * It doesn't work.... :(\n",
        " * [input] - [new model] ---[fetch created image]--- [trained model] - [output]\n",
        " * My goal was the new model makes new MNIST data image.\n",
        " * but created images didn't look like MNIST image..."
      ]
    },
    {
      "cell_type": "markdown",
      "metadata": {
        "id": "SDvyNtgQbX9O",
        "colab_type": "text"
      },
      "source": [
        "## Importing Libraries"
      ]
    },
    {
      "cell_type": "code",
      "metadata": {
        "id": "J0tHjWnybX9R",
        "colab_type": "code",
        "outputId": "152da350-d13f-42f0-f797-653c323cdda4",
        "colab": {
          "base_uri": "https://localhost:8080/",
          "height": 71
        }
      },
      "source": [
        "%tensorflow_version 2.x\n",
        "import tensorflow as tf\n",
        "from tensorflow import keras\n",
        "from tensorflow.keras.utils import to_categorical\n",
        "import numpy as np\n",
        "import matplotlib.pyplot as plt\n",
        "import os\n",
        "\n",
        "print(tf.__version__)\n",
        "print(keras.__version__)"
      ],
      "execution_count": 1,
      "outputs": [
        {
          "output_type": "stream",
          "text": [
            "TensorFlow 2.x selected.\n",
            "2.1.0\n",
            "2.2.4-tf\n"
          ],
          "name": "stdout"
        }
      ]
    },
    {
      "cell_type": "markdown",
      "metadata": {
        "id": "5Kvw3xLTbX9Y",
        "colab_type": "text"
      },
      "source": [
        "## Hyper Parameters"
      ]
    },
    {
      "cell_type": "code",
      "metadata": {
        "id": "hJ5QmA9GbX9a",
        "colab_type": "code",
        "colab": {}
      },
      "source": [
        "learning_rate = 0.001\n",
        "training_epochs = 1\n",
        "batch_size = 100\n",
        "\n",
        "tf.random.set_seed(777)"
      ],
      "execution_count": 0,
      "outputs": []
    },
    {
      "cell_type": "markdown",
      "metadata": {
        "id": "9jisQ_Q8bX9f",
        "colab_type": "text"
      },
      "source": [
        "## Creating a Checkpoint Directory"
      ]
    },
    {
      "cell_type": "code",
      "metadata": {
        "id": "SVK4MBJMbX9h",
        "colab_type": "code",
        "colab": {}
      },
      "source": [
        "cur_dir = os.getcwd()\n",
        "ckpt_dir_name = 'checkpoints'\n",
        "model_dir_name = 'minst_cnn_func'\n",
        "\n",
        "checkpoint_dir = os.path.join(cur_dir, ckpt_dir_name, model_dir_name)\n",
        "os.makedirs(checkpoint_dir, exist_ok=True)\n",
        "\n",
        "checkpoint_prefix = os.path.join(checkpoint_dir, model_dir_name)"
      ],
      "execution_count": 0,
      "outputs": []
    },
    {
      "cell_type": "markdown",
      "metadata": {
        "id": "d6zs4GX6bX9l",
        "colab_type": "text"
      },
      "source": [
        "## MNIST/Fashion MNIST Data"
      ]
    },
    {
      "cell_type": "code",
      "metadata": {
        "id": "DlATZgZWbX9m",
        "colab_type": "code",
        "colab": {}
      },
      "source": [
        "## MNIST Dataset #########################################################\n",
        "mnist = keras.datasets.mnist\n",
        "class_names = ['0', '1', '2', '3', '4', '5', '6', '7', '8', '9']\n",
        "##########################################################################\n",
        "\n",
        "## Fashion MNIST Dataset #################################################\n",
        "#mnist = keras.datasets.fashion_mnist\n",
        "#class_names = ['T-shirt/top', 'Trouser', 'Pullover', 'Dress', 'Coat', 'Sandal', 'Shirt', 'Sneaker', 'Bag', 'Ankle boot']\n",
        "##########################################################################"
      ],
      "execution_count": 0,
      "outputs": []
    },
    {
      "cell_type": "markdown",
      "metadata": {
        "id": "QBkkbrrZbX9r",
        "colab_type": "text"
      },
      "source": [
        "## Datasets"
      ]
    },
    {
      "cell_type": "code",
      "metadata": {
        "id": "L9ETl5FJbX9t",
        "colab_type": "code",
        "outputId": "ef552afb-09f3-4f1c-9ba3-d64670dae83c",
        "colab": {
          "base_uri": "https://localhost:8080/",
          "height": 53
        }
      },
      "source": [
        "(train_images, train_labels), (test_images, test_labels) = mnist.load_data()    \n",
        "    \n",
        "train_images = train_images.astype(np.float32) / 255.\n",
        "test_images = test_images.astype(np.float32) / 255.\n",
        "train_images = np.expand_dims(train_images, axis=-1)\n",
        "test_images = np.expand_dims(test_images, axis=-1)\n",
        "    \n",
        "train_labels = to_categorical(train_labels, 10)\n",
        "test_labels = to_categorical(test_labels, 10)    \n",
        "    \n",
        "train_dataset = tf.data.Dataset.from_tensor_slices((train_images, train_labels)).shuffle(\n",
        "                buffer_size=100000).batch(batch_size)\n",
        "test_dataset = tf.data.Dataset.from_tensor_slices((test_images, test_labels)).batch(batch_size)"
      ],
      "execution_count": 5,
      "outputs": [
        {
          "output_type": "stream",
          "text": [
            "Downloading data from https://storage.googleapis.com/tensorflow/tf-keras-datasets/mnist.npz\n",
            "11493376/11490434 [==============================] - 0s 0us/step\n"
          ],
          "name": "stdout"
        }
      ]
    },
    {
      "cell_type": "markdown",
      "metadata": {
        "id": "9caP6XQGbX9v",
        "colab_type": "text"
      },
      "source": [
        "## Model Function"
      ]
    },
    {
      "cell_type": "code",
      "metadata": {
        "id": "Y_FDOv8ZbX9w",
        "colab_type": "code",
        "colab": {}
      },
      "source": [
        "def create_model():\n",
        "    inputs = keras.Input(shape=(28, 28, 1))\n",
        "    conv1 = keras.layers.Conv2D(filters=32, kernel_size=[3, 3], padding='SAME', activation=tf.nn.relu)(inputs)\n",
        "    pool1 = keras.layers.MaxPool2D(padding='SAME')(conv1)\n",
        "    conv2 = keras.layers.Conv2D(filters=64, kernel_size=[3, 3], padding='SAME', activation=tf.nn.relu)(pool1)\n",
        "    pool2 = keras.layers.MaxPool2D(padding='SAME')(conv2)\n",
        "    conv3 = keras.layers.Conv2D(filters=128, kernel_size=[3, 3], padding='SAME', activation=tf.nn.relu)(pool2)\n",
        "    pool3 = keras.layers.MaxPool2D(padding='SAME')(conv3)\n",
        "    pool3_flat = keras.layers.Flatten()(pool3)\n",
        "    dense4 = keras.layers.Dense(units=256, activation=tf.nn.relu)(pool3_flat)\n",
        "    drop4 = keras.layers.Dropout(rate=0.4)(dense4)\n",
        "    logits = keras.layers.Dense(units=10)(drop4)\n",
        "    return keras.Model(inputs=inputs, outputs=logits)"
      ],
      "execution_count": 0,
      "outputs": []
    },
    {
      "cell_type": "code",
      "metadata": {
        "id": "2JWpw6SQbX9z",
        "colab_type": "code",
        "outputId": "1d0e6202-1672-46dd-a360-a46cd8ecb39a",
        "colab": {
          "base_uri": "https://localhost:8080/",
          "height": 557
        }
      },
      "source": [
        "model = create_model()\n",
        "model.summary()"
      ],
      "execution_count": 7,
      "outputs": [
        {
          "output_type": "stream",
          "text": [
            "Model: \"model\"\n",
            "_________________________________________________________________\n",
            "Layer (type)                 Output Shape              Param #   \n",
            "=================================================================\n",
            "input_1 (InputLayer)         [(None, 28, 28, 1)]       0         \n",
            "_________________________________________________________________\n",
            "conv2d (Conv2D)              (None, 28, 28, 32)        320       \n",
            "_________________________________________________________________\n",
            "max_pooling2d (MaxPooling2D) (None, 14, 14, 32)        0         \n",
            "_________________________________________________________________\n",
            "conv2d_1 (Conv2D)            (None, 14, 14, 64)        18496     \n",
            "_________________________________________________________________\n",
            "max_pooling2d_1 (MaxPooling2 (None, 7, 7, 64)          0         \n",
            "_________________________________________________________________\n",
            "conv2d_2 (Conv2D)            (None, 7, 7, 128)         73856     \n",
            "_________________________________________________________________\n",
            "max_pooling2d_2 (MaxPooling2 (None, 4, 4, 128)         0         \n",
            "_________________________________________________________________\n",
            "flatten (Flatten)            (None, 2048)              0         \n",
            "_________________________________________________________________\n",
            "dense (Dense)                (None, 256)               524544    \n",
            "_________________________________________________________________\n",
            "dropout (Dropout)            (None, 256)               0         \n",
            "_________________________________________________________________\n",
            "dense_1 (Dense)              (None, 10)                2570      \n",
            "=================================================================\n",
            "Total params: 619,786\n",
            "Trainable params: 619,786\n",
            "Non-trainable params: 0\n",
            "_________________________________________________________________\n"
          ],
          "name": "stdout"
        }
      ]
    },
    {
      "cell_type": "markdown",
      "metadata": {
        "id": "3GBpVtuubX94",
        "colab_type": "text"
      },
      "source": [
        "## Loss Function"
      ]
    },
    {
      "cell_type": "code",
      "metadata": {
        "id": "3eTu90xxbX95",
        "colab_type": "code",
        "colab": {}
      },
      "source": [
        "@tf.function\n",
        "def loss_fn(model, images, labels):\n",
        "    logits = model(images, training=True)\n",
        "    loss = tf.reduce_mean(tf.keras.losses.categorical_crossentropy(\n",
        "        y_pred=logits, y_true=labels, from_logits=True))    \n",
        "    return loss   "
      ],
      "execution_count": 0,
      "outputs": []
    },
    {
      "cell_type": "markdown",
      "metadata": {
        "id": "lEfgSAwXbX99",
        "colab_type": "text"
      },
      "source": [
        "## Calculate Gradient"
      ]
    },
    {
      "cell_type": "code",
      "metadata": {
        "id": "7I1rV_iqbX9_",
        "colab_type": "code",
        "colab": {}
      },
      "source": [
        "@tf.function\n",
        "def grad(model, images, labels):\n",
        "    with tf.GradientTape() as tape:\n",
        "        loss = loss_fn(model, images, labels)\n",
        "    return tape.gradient(loss, model.variables)"
      ],
      "execution_count": 0,
      "outputs": []
    },
    {
      "cell_type": "markdown",
      "metadata": {
        "id": "-1SVUQQ2bX-C",
        "colab_type": "text"
      },
      "source": [
        "## Caculating Model's Accuracy"
      ]
    },
    {
      "cell_type": "code",
      "metadata": {
        "id": "wmTKoq30bX-D",
        "colab_type": "code",
        "colab": {}
      },
      "source": [
        "@tf.function\n",
        "def evaluate(model, images, labels):\n",
        "    logits = model(images, training=False)\n",
        "    correct_prediction = tf.equal(tf.argmax(logits, 1), tf.argmax(labels, 1))\n",
        "    accuracy = tf.reduce_mean(tf.cast(correct_prediction, tf.float32))\n",
        "    return accuracy"
      ],
      "execution_count": 0,
      "outputs": []
    },
    {
      "cell_type": "markdown",
      "metadata": {
        "id": "GMMKtIv3bX-H",
        "colab_type": "text"
      },
      "source": [
        "## Optimizer"
      ]
    },
    {
      "cell_type": "code",
      "metadata": {
        "id": "YIYI61cjbX-I",
        "colab_type": "code",
        "colab": {}
      },
      "source": [
        "optimizer = tf.keras.optimizers.Adam(learning_rate=learning_rate)"
      ],
      "execution_count": 0,
      "outputs": []
    },
    {
      "cell_type": "markdown",
      "metadata": {
        "id": "aL_r0PRvbX-M",
        "colab_type": "text"
      },
      "source": [
        "## Creating a Checkpoint"
      ]
    },
    {
      "cell_type": "code",
      "metadata": {
        "id": "F2yBgpT4bX-O",
        "colab_type": "code",
        "colab": {}
      },
      "source": [
        "checkpoint = tf.train.Checkpoint(cnn=model)"
      ],
      "execution_count": 0,
      "outputs": []
    },
    {
      "cell_type": "markdown",
      "metadata": {
        "id": "XKgHKwGobX-R",
        "colab_type": "text"
      },
      "source": [
        "## Training"
      ]
    },
    {
      "cell_type": "code",
      "metadata": {
        "id": "9VhtjKlPbX-S",
        "colab_type": "code",
        "colab": {}
      },
      "source": [
        "@tf.function\n",
        "def train(model, images, labels):\n",
        "    grads = grad(model, images, labels)\n",
        "    optimizer.apply_gradients(zip(grads, model.trainable_variables))"
      ],
      "execution_count": 0,
      "outputs": []
    },
    {
      "cell_type": "code",
      "metadata": {
        "id": "IwDoRAAjm2W5",
        "colab_type": "code",
        "outputId": "1925ed2e-e939-4757-eecd-aae6763efdc6",
        "colab": {
          "base_uri": "https://localhost:8080/",
          "height": 161
        }
      },
      "source": [
        "model.compile(optimizer=optimizer, loss=tf.keras.losses.CategoricalCrossentropy(from_logits=True), metrics=['accuracy'])\n",
        "model.fit(x=train_dataset, epochs=3, validation_data=test_dataset)"
      ],
      "execution_count": 16,
      "outputs": [
        {
          "output_type": "stream",
          "text": [
            "Train for 600 steps, validate for 100 steps\n",
            "Epoch 1/3\n",
            "600/600 [==============================] - 98s 164ms/step - loss: 0.1410 - accuracy: 0.9562 - val_loss: 0.0404 - val_accuracy: 0.9861\n",
            "Epoch 2/3\n",
            "600/600 [==============================] - 98s 163ms/step - loss: 0.0535 - accuracy: 0.9840 - val_loss: 0.0242 - val_accuracy: 0.9920\n",
            "Epoch 3/3\n",
            "600/600 [==============================] - 98s 164ms/step - loss: 0.0384 - accuracy: 0.9882 - val_loss: 0.0335 - val_accuracy: 0.9891\n"
          ],
          "name": "stdout"
        },
        {
          "output_type": "execute_result",
          "data": {
            "text/plain": [
              "<tensorflow.python.keras.callbacks.History at 0x7f3e8388ee10>"
            ]
          },
          "metadata": {
            "tags": []
          },
          "execution_count": 16
        }
      ]
    },
    {
      "cell_type": "markdown",
      "metadata": {
        "id": "juORMInJ5QOn",
        "colab_type": "text"
      },
      "source": [
        "## Save trained model"
      ]
    },
    {
      "cell_type": "code",
      "metadata": {
        "id": "CoA3vUd5hk3J",
        "colab_type": "code",
        "colab": {
          "base_uri": "https://localhost:8080/",
          "height": 35
        },
        "outputId": "e37de984-3540-45b3-baff-acc18a198ebe"
      },
      "source": [
        "model_path = 'my-save/saved.h5'\n",
        "!rm -r my-save\n",
        "!mkdir my-save\n",
        "model.save('my-save/saved.h5')"
      ],
      "execution_count": 17,
      "outputs": [
        {
          "output_type": "stream",
          "text": [
            "rm: cannot remove 'my-save': No such file or directory\n"
          ],
          "name": "stdout"
        }
      ]
    },
    {
      "cell_type": "code",
      "metadata": {
        "id": "jjnD7QeeiLOo",
        "colab_type": "code",
        "outputId": "d71cb937-ab40-4689-c94d-982212ac2ae3",
        "colab": {
          "base_uri": "https://localhost:8080/",
          "height": 35
        }
      },
      "source": [
        "!ls"
      ],
      "execution_count": 18,
      "outputs": [
        {
          "output_type": "stream",
          "text": [
            "checkpoints  my-save  sample_data\n"
          ],
          "name": "stdout"
        }
      ]
    },
    {
      "cell_type": "markdown",
      "metadata": {
        "id": "JJP8iSXL5Ueu",
        "colab_type": "text"
      },
      "source": [
        "## Load trained model"
      ]
    },
    {
      "cell_type": "code",
      "metadata": {
        "id": "JFBNGT-HiXz4",
        "colab_type": "code",
        "outputId": "65907ef9-6aa0-40f1-acf8-df9cb54452d0",
        "colab": {
          "base_uri": "https://localhost:8080/",
          "height": 557
        }
      },
      "source": [
        "new1_model = tf.keras.models.load_model(model_path)\n",
        "new1_model.summary()"
      ],
      "execution_count": 19,
      "outputs": [
        {
          "output_type": "stream",
          "text": [
            "Model: \"model\"\n",
            "_________________________________________________________________\n",
            "Layer (type)                 Output Shape              Param #   \n",
            "=================================================================\n",
            "input_1 (InputLayer)         [(None, 28, 28, 1)]       0         \n",
            "_________________________________________________________________\n",
            "conv2d (Conv2D)              (None, 28, 28, 32)        320       \n",
            "_________________________________________________________________\n",
            "max_pooling2d (MaxPooling2D) (None, 14, 14, 32)        0         \n",
            "_________________________________________________________________\n",
            "conv2d_1 (Conv2D)            (None, 14, 14, 64)        18496     \n",
            "_________________________________________________________________\n",
            "max_pooling2d_1 (MaxPooling2 (None, 7, 7, 64)          0         \n",
            "_________________________________________________________________\n",
            "conv2d_2 (Conv2D)            (None, 7, 7, 128)         73856     \n",
            "_________________________________________________________________\n",
            "max_pooling2d_2 (MaxPooling2 (None, 4, 4, 128)         0         \n",
            "_________________________________________________________________\n",
            "flatten (Flatten)            (None, 2048)              0         \n",
            "_________________________________________________________________\n",
            "dense (Dense)                (None, 256)               524544    \n",
            "_________________________________________________________________\n",
            "dropout (Dropout)            (None, 256)               0         \n",
            "_________________________________________________________________\n",
            "dense_1 (Dense)              (None, 10)                2570      \n",
            "=================================================================\n",
            "Total params: 619,786\n",
            "Trainable params: 619,786\n",
            "Non-trainable params: 0\n",
            "_________________________________________________________________\n"
          ],
          "name": "stdout"
        }
      ]
    },
    {
      "cell_type": "code",
      "metadata": {
        "id": "EqXWnMAWivLA",
        "colab_type": "code",
        "outputId": "f2dfa02f-651b-4885-a9d4-c2cf7516ac62",
        "colab": {
          "base_uri": "https://localhost:8080/",
          "height": 35
        }
      },
      "source": [
        "evaluate(new1_model,test_images, test_labels)"
      ],
      "execution_count": 20,
      "outputs": [
        {
          "output_type": "execute_result",
          "data": {
            "text/plain": [
              "<tf.Tensor: shape=(), dtype=float32, numpy=0.9891>"
            ]
          },
          "metadata": {
            "tags": []
          },
          "execution_count": 20
        }
      ]
    },
    {
      "cell_type": "markdown",
      "metadata": {
        "id": "ld7bnbLr6ENe",
        "colab_type": "text"
      },
      "source": [
        "## Create new model to make MNIST image"
      ]
    },
    {
      "cell_type": "code",
      "metadata": {
        "id": "0YZCjdvZpq9a",
        "colab_type": "code",
        "colab": {}
      },
      "source": [
        "def norm_as_activation(x):\n",
        "  #이미지 인풋인 상황과 동일하게 만들어줘야함.\n",
        "  norm = (x-tf.math.reduce_min(x))/(tf.math.reduce_max(x) - tf.math.reduce_min(x))\n",
        "  #100은 batch size를 의미\n",
        "  return tf.reshape(norm, (100,28,28,1))\n",
        "\n",
        "def create_image_model(trained_model):\n",
        "  inputs = keras.Input(shape=(10,))\n",
        "  dense1 = keras.layers.Dense(units=256, activation=tf.nn.relu)(inputs)\n",
        "  dense2 = keras.layers.Dense(units=512, activation=tf.nn.relu)(dense1)\n",
        "  dense3 = keras.layers.Dense(units=1024, activation=tf.nn.relu)(dense2)\n",
        "  drop1 = keras.layers.Dropout(rate=0.4)(dense3)\n",
        "  logits = keras.layers.Dense(units=784)(drop1)\n",
        "\n",
        "  activation = keras.layers.Activation(norm_as_activation)(logits)\n",
        "  trained_output = trained_model(activation, training=False)\n",
        "  return keras.Model(inputs=inputs, outputs=logits), keras.Model(inputs=inputs, outputs=trained_output)\n"
      ],
      "execution_count": 0,
      "outputs": []
    },
    {
      "cell_type": "markdown",
      "metadata": {
        "id": "1fLkRFa76KX0",
        "colab_type": "text"
      },
      "source": [
        "## Prepare dataset"
      ]
    },
    {
      "cell_type": "code",
      "metadata": {
        "id": "cSEZMWxpyZuH",
        "colab_type": "code",
        "colab": {}
      },
      "source": [
        "trained_model = tf.keras.models.load_model(model_path)\n",
        "new_model, ensemble_model = create_image_model(trained_model)"
      ],
      "execution_count": 0,
      "outputs": []
    },
    {
      "cell_type": "markdown",
      "metadata": {
        "id": "SVXKz-Xn6Oa8",
        "colab_type": "text"
      },
      "source": [
        "## Train"
      ]
    },
    {
      "cell_type": "code",
      "metadata": {
        "id": "tuzuhSMW4V9l",
        "colab_type": "code",
        "outputId": "1a4db3d5-290a-4053-8f62-5b3e4fc74248",
        "colab": {
          "base_uri": "https://localhost:8080/",
          "height": 197
        }
      },
      "source": [
        "new_optimizer = keras.optimizers.Adam()\n",
        "new_train_labels = train_labels.copy()\n",
        "print(new_train_labels)\n",
        "\n",
        "ensemble_model.compile(optimizer=new_optimizer, loss=tf.keras.losses.CategoricalCrossentropy(from_logits=True), metrics=['accuracy'])\n",
        "ensemble_model.fit(new_train_labels, train_labels, batch_size=100)\n"
      ],
      "execution_count": 23,
      "outputs": [
        {
          "output_type": "stream",
          "text": [
            "[[0. 0. 0. ... 0. 0. 0.]\n",
            " [1. 0. 0. ... 0. 0. 0.]\n",
            " [0. 0. 0. ... 0. 0. 0.]\n",
            " ...\n",
            " [0. 0. 0. ... 0. 0. 0.]\n",
            " [0. 0. 0. ... 0. 0. 0.]\n",
            " [0. 0. 0. ... 0. 1. 0.]]\n",
            "Train on 60000 samples\n",
            "60000/60000 [==============================] - 131s 2ms/sample - loss: 0.0154 - accuracy: 0.9957\n"
          ],
          "name": "stdout"
        },
        {
          "output_type": "execute_result",
          "data": {
            "text/plain": [
              "<tensorflow.python.keras.callbacks.History at 0x7f3e80ff6898>"
            ]
          },
          "metadata": {
            "tags": []
          },
          "execution_count": 23
        }
      ]
    },
    {
      "cell_type": "markdown",
      "metadata": {
        "id": "gkkNVeZZ7cui",
        "colab_type": "text"
      },
      "source": [
        "## Show images created by the new model."
      ]
    },
    {
      "cell_type": "code",
      "metadata": {
        "id": "syJGlj-Dzwvh",
        "colab_type": "code",
        "colab": {
          "base_uri": "https://localhost:8080/",
          "height": 53
        },
        "outputId": "0721f32a-0e9d-48f7-d4a8-a2a9d5e8bc52"
      },
      "source": [
        "import matplotlib.pyplot as plt\n",
        "\n",
        "def norm_as_image(x):\n",
        "  #이미지 인풋인 상황과 동일하게 만들어줘야함.\n",
        "  norm = ((x-tf.math.reduce_min(x))/(tf.math.reduce_max(x) - tf.math.reduce_min(x))) * 255\n",
        "  print(norm.shape)\n",
        "  reshape_image = tf.reshape(norm, (60000, 28,28))\n",
        "  return reshape_image\n",
        "\n",
        "output = new_model(new_train_labels, training=False)\n",
        "created_images = norm_as_image(output)\n",
        "print(created_images.shape)"
      ],
      "execution_count": 24,
      "outputs": [
        {
          "output_type": "stream",
          "text": [
            "(60000, 784)\n",
            "(60000, 28, 28)\n"
          ],
          "name": "stdout"
        }
      ]
    },
    {
      "cell_type": "code",
      "metadata": {
        "id": "v0jWOHsy7wZf",
        "colab_type": "code",
        "outputId": "7b6dbb5c-c8b4-473c-932c-5222f780de4c",
        "colab": {
          "base_uri": "https://localhost:8080/",
          "height": 301
        }
      },
      "source": [
        "num = 18\n",
        "print(tf.argmax(train_labels[num]))\n",
        "plt.imshow(created_images[num], cmap='Greys')\n",
        "plt.show()\n",
        "\n",
        "as_input = tf.reshape(created_images[num], (1,28,28,1))\n",
        "print(\"prediction : \" + str(tf.argmax(trained_model.predict(as_input), -1)))"
      ],
      "execution_count": 25,
      "outputs": [
        {
          "output_type": "stream",
          "text": [
            "tf.Tensor(6, shape=(), dtype=int64)\n"
          ],
          "name": "stdout"
        },
        {
          "output_type": "display_data",
          "data": {
            "image/png": "[encoded data removed]",
            "text/plain": [
              "<Figure size 432x288 with 1 Axes>"
            ]
          },
          "metadata": {
            "tags": []
          }
        },
        {
          "output_type": "stream",
          "text": [
            "prediction : tf.Tensor([6], shape=(1,), dtype=int64)\n"
          ],
          "name": "stdout"
        }
      ]
    },
    {
      "cell_type": "markdown",
      "metadata": {
        "id": "i95vNEi17nVU",
        "colab_type": "text"
      },
      "source": [
        "## Try again with another new model."
      ]
    },
    {
      "cell_type": "code",
      "metadata": {
        "id": "hjcUsoMun44-",
        "colab_type": "code",
        "colab": {}
      },
      "source": [
        "def create_image_model2(trained_model):\n",
        "  inputs = keras.Input(shape=(10,))\n",
        "  dense1 = keras.layers.Dense(units=256, activation=tf.nn.relu)(inputs)\n",
        "  dense2 = keras.layers.Dense(units=512, activation=tf.nn.relu)(dense1)\n",
        "  dense3 = keras.layers.Dense(units=1024, activation=tf.nn.relu)(dense2)\n",
        "  drop1 = keras.layers.Dropout(rate=0.4)(dense3)\n",
        "  dense4 = keras.layers.Dense(units=1024, activation=tf.nn.relu)(drop1)\n",
        "  dense5 = keras.layers.Dense(units=2048, activation=tf.nn.relu)(dense4)\n",
        "  dense6 = keras.layers.Dense(units=784, activation=tf.nn.relu)(dense5)\n",
        "  dense7 = keras.layers.Dense(units=784, activation=tf.nn.relu)(dense6)\n",
        "  logits = keras.layers.Dense(units=784)(dense7)\n",
        "\n",
        "  activation = keras.layers.Activation(norm_as_activation)(logits)\n",
        "  trained_output = trained_model(activation, training=False)\n",
        "  return keras.Model(inputs=inputs, outputs=logits), keras.Model(inputs=inputs, outputs=trained_output)\n",
        "\n"
      ],
      "execution_count": 0,
      "outputs": []
    },
    {
      "cell_type": "code",
      "metadata": {
        "id": "fTZSIpmT3KZc",
        "colab_type": "code",
        "outputId": "fe507c45-0a85-4f47-ca6f-54affb884164",
        "colab": {
          "base_uri": "https://localhost:8080/",
          "height": 251
        }
      },
      "source": [
        "trained_model = tf.keras.models.load_model(model_path)\n",
        "new_model2, ensemble_model2 = create_image_model2(trained_model)\n",
        "new_optimizer = keras.optimizers.Adam()\n",
        "new_train_labels = train_labels.copy()\n",
        "print(new_train_labels)\n",
        "\n",
        "ensemble_model2.compile(optimizer=new_optimizer, loss=tf.keras.losses.CategoricalCrossentropy(from_logits=True), metrics=['accuracy'])\n",
        "ensemble_model2.fit(new_train_labels, train_labels, epochs=2, batch_size=100)"
      ],
      "execution_count": 27,
      "outputs": [
        {
          "output_type": "stream",
          "text": [
            "[[0. 0. 0. ... 0. 0. 0.]\n",
            " [1. 0. 0. ... 0. 0. 0.]\n",
            " [0. 0. 0. ... 0. 0. 0.]\n",
            " ...\n",
            " [0. 0. 0. ... 0. 0. 0.]\n",
            " [0. 0. 0. ... 0. 0. 0.]\n",
            " [0. 0. 0. ... 0. 1. 0.]]\n",
            "Train on 60000 samples\n",
            "Epoch 1/2\n",
            "60000/60000 [==============================] - 168s 3ms/sample - loss: 0.0899 - accuracy: 0.9691\n",
            "Epoch 2/2\n",
            "60000/60000 [==============================] - 167s 3ms/sample - loss: 2.9537e-06 - accuracy: 1.0000\n"
          ],
          "name": "stdout"
        },
        {
          "output_type": "execute_result",
          "data": {
            "text/plain": [
              "<tensorflow.python.keras.callbacks.History at 0x7f3e7c77ea20>"
            ]
          },
          "metadata": {
            "tags": []
          },
          "execution_count": 27
        }
      ]
    },
    {
      "cell_type": "code",
      "metadata": {
        "id": "38S5o4NP1i8t",
        "colab_type": "code",
        "outputId": "2f86e85d-80b6-45ff-d70b-d24998874eeb",
        "colab": {
          "base_uri": "https://localhost:8080/",
          "height": 53
        }
      },
      "source": [
        "output = new_model2(new_train_labels, training=False)\n",
        "created_images = norm_as_image(output)\n",
        "print(created_images.shape)\n",
        "#print(created_images[0])\n"
      ],
      "execution_count": 28,
      "outputs": [
        {
          "output_type": "stream",
          "text": [
            "(60000, 784)\n",
            "(60000, 28, 28)\n"
          ],
          "name": "stdout"
        }
      ]
    },
    {
      "cell_type": "code",
      "metadata": {
        "id": "CyeB3EUU3AsN",
        "colab_type": "code",
        "outputId": "e6774626-ab81-4e52-9588-1654109aa927",
        "colab": {
          "base_uri": "https://localhost:8080/",
          "height": 301
        }
      },
      "source": [
        "num = 11239\n",
        "\n",
        "print(tf.argmax(train_labels[num]))\n",
        "plt.imshow(created_images[num], cmap='Greys')\n",
        "plt.show()\n",
        "\n",
        "as_input = tf.reshape(created_images[num], (1,28,28,1))\n",
        "print(\"prediction : \" + str(tf.argmax(trained_model.predict(as_input), -1)))"
      ],
      "execution_count": 32,
      "outputs": [
        {
          "output_type": "stream",
          "text": [
            "tf.Tensor(8, shape=(), dtype=int64)\n"
          ],
          "name": "stdout"
        },
        {
          "output_type": "display_data",
          "data": {
            "image/png": "[encoded data removed]",
            "text/plain": [
              "<Figure size 432x288 with 1 Axes>"
            ]
          },
          "metadata": {
            "tags": []
          }
        },
        {
          "output_type": "stream",
          "text": [
            "prediction : tf.Tensor([8], shape=(1,), dtype=int64)\n"
          ],
          "name": "stdout"
        }
      ]
    },
    {
      "cell_type": "code",
      "metadata": {
        "id": "wp6CZzNQ5O08",
        "colab_type": "code",
        "colab": {}
      },
      "source": [
        ""
      ],
      "execution_count": 0,
      "outputs": []
    }
  ]
}